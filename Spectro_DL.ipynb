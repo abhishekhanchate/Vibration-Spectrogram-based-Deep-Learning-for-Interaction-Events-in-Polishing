{
 "cells": [
  {
   "cell_type": "code",
   "execution_count": 3,
   "id": "c2e4cf9f",
   "metadata": {},
   "outputs": [
    {
     "data": {
      "text/plain": [
       "[PhysicalDevice(name='/physical_device:GPU:0', device_type='GPU')]"
      ]
     },
     "execution_count": 3,
     "metadata": {},
     "output_type": "execute_result"
    }
   ],
   "source": [
    "import tensorflow as tf  \n",
    "import torch\n",
    "tf.test.gpu_device_name()\n",
    "tf.config.list_physical_devices('GPU')\n"
   ]
  },
  {
   "cell_type": "code",
   "execution_count": 4,
   "id": "b7e18daa",
   "metadata": {},
   "outputs": [
    {
     "name": "stdout",
     "output_type": "stream",
     "text": [
      "cuda\n"
     ]
    }
   ],
   "source": [
    "device=torch.device('cuda' if torch.cuda.is_available() else 'cpu')\n",
    "print(device)\n"
   ]
  },
  {
   "cell_type": "code",
   "execution_count": 5,
   "id": "72df34fc",
   "metadata": {},
   "outputs": [],
   "source": [
    "import numpy as np\n",
    "import random\n",
    "import os\n",
    "import pandas as pd\n",
    "from scipy import signal\n",
    "import tensorflow as tf\n",
    "from tensorflow.keras.models import Sequential\n",
    "from tensorflow.keras.layers import Conv2D, MaxPooling2D, Flatten, Dense"
   ]
  },
  {
   "cell_type": "code",
   "execution_count": 6,
   "id": "a19eb76e",
   "metadata": {},
   "outputs": [],
   "source": [
    "from tensorflow.keras.layers import Input, Conv2D, MaxPooling2D, Flatten, Dense, Dropout, BatchNormalization\n",
    "from tensorflow.keras.regularizers import l2\n",
    "from tensorflow.keras.models import Model\n",
    "from tensorflow.keras.models import Model\n",
    "from tensorflow.keras.layers import Input, Conv2D, MaxPooling2D, Flatten, Dense, BatchNormalization, Dropout\n",
    "from tensorflow.keras import regularizers\n",
    "from tensorflow.keras.optimizers import Adam\n",
    "from tensorflow.keras.datasets import mnist\n",
    "from tensorflow.keras.utils import to_categorical\n",
    "import tensorflow as tf\n",
    "from tensorflow import keras\n",
    "from tensorflow.keras import layers\n",
    "from tensorflow.keras import regularizers\n",
    "import random\n",
    "import numpy as np\n",
    "from sklearn.model_selection import train_test_split"
   ]
  },
  {
   "cell_type": "code",
   "execution_count": 7,
   "id": "bd9020d7",
   "metadata": {},
   "outputs": [],
   "source": [
    "#%%Experiemnt 1\n",
    "# Location of Matlab File\n",
    "os.chdir(r'C:\\Research\\Spring 2023\\05_04_2022\\Stage Wise Experiment Analysis\\Experiment 1')\n",
    "from scipy.io import loadmat\n",
    "#Loading Data\n",
    "mat_1 = loadmat('Stage-1-Mar-28-2023-Run01_1.mat')\n",
    "sorted(mat_1.keys())\n",
    "#To Array\n",
    "oct_a_1 = mat_1['Y1']\n",
    "oct_a_1 = oct_a_1.reshape(len(oct_a_1), )\n",
    "mat = loadmat('Stage-1-Mar-28-2023-Run01_2.mat')\n",
    "sorted(mat.keys())\n",
    "#To Array\n",
    "oct_a_2 = mat['Y2']\n",
    "oct_a_2 = oct_a_2.reshape(len(oct_a_2), )\n",
    "oct_a_expt_1 = np.concatenate((oct_a_1, oct_a_2))\n",
    "\n",
    "#Experiment 2\n",
    "# Location of Matlab File\n",
    "os.chdir(r'C:\\Research\\Spring 2023\\05_04_2022\\Stage Wise Experiment Analysis\\Experiment 2')\n",
    "from scipy.io import loadmat\n",
    "mat_2 = loadmat('Stage-2-Mar-28-2023-Run02.mat')\n",
    "sorted(mat_2.keys())\n",
    "oct_a_expt_2 = mat_2['Y3']\n",
    "oct_a_expt_2 = oct_a_expt_2.reshape(len(oct_a_expt_2), )\n",
    "\n",
    "\n",
    "#Experiemnt 3\n",
    "os.chdir(r'C:\\Research\\Spring 2023\\05_04_2022\\Stage Wise Experiment Analysis\\Experiment 3 March 29')\n",
    "#Loading Data\n",
    "mat_3 = loadmat('Stage-3-Mar-29-2023-Run01.mat')\n",
    "sorted(mat_3.keys())\n",
    "oct_a_expt_3 = mat_3['Y']\n",
    "oct_a_expt_3 = oct_a_expt_3.reshape(len(oct_a_expt_3), )\n",
    "\n",
    "#Experiment 6\n",
    "os.chdir(r'C:\\Research\\Spring 2023\\05_04_2022\\Stage Wise Experiment Analysis\\Experiment 6 April 19')\n",
    "mat_6 = loadmat('Stage-6-Apr-19-2023-Run01.mat')\n",
    "sorted(mat_6.keys())\n",
    "#To Array\n",
    "oct_a_expt_6 = mat_6['y']\n",
    "oct_a_expt_6 = oct_a_expt_6.reshape(len(oct_a_expt_6), )\n",
    "\n",
    "time_step = .0001\n",
    "time_vec_expt_2 = np.arange(0, 480, time_step) #Input the total seconds of the video length\n",
    "time_vec_expt_1 = np.arange(0, 486.5, time_step)\n",
    "time_vec_expt_3 = np.arange(0, 538.5, time_step)\n",
    "time_vec_expt_6 = np.arange(0, 300, time_step)\n",
    "\n",
    "# 1302 = (Total tine * Frame rate = 120*10.85) Total number of thermal images equivalent\n",
    "split_expt_1 = np.array_split(oct_a_expt_1, 5261)\n",
    "split_expt_2 = np.array_split(oct_a_expt_2, 5189)\n",
    "split_expt_3 = np.array_split(oct_a_expt_3, 5885)\n",
    "split_expt_6 = np.array_split(oct_a_expt_6, 3275)\n",
    "\n",
    "#%Splitting the time stamps\n",
    "time_split_expt_1 = np.array_split(time_vec_expt_1, 5261)\n",
    "time_split_expt_2 = np.array_split(time_vec_expt_2, 5189)\n",
    "time_split_expt_3 = np.array_split(time_vec_expt_3, 5885)\n",
    "time_split_expt_6 = np.array_split(time_vec_expt_6, 3275)\n",
    "\n",
    "\n",
    "#%%\n",
    "#Imprting excel file contains anomolous data rows\n",
    "os.chdir(\"C:\\Research\\Fall 2023\\Signal Quantification Work - Thesis\\LSTM Model\")\n",
    "interaction_event_data_1 = pd.read_excel(\"Shell interaction Events Data.xlsx\",sheet_name=\"Expt 1\")\n",
    "interaction_event_data_2 = pd.read_excel(\"Shell interaction Events Data.xlsx\",sheet_name=\"Expt 2\")\n",
    "interaction_event_data_3 = pd.read_excel(\"Shell interaction Events Data.xlsx\",sheet_name=\"Expt 3\")\n",
    "interaction_event_data_6 = pd.read_excel(\"Shell interaction Events Data.xlsx\",sheet_name=\"Expt 6\")\n",
    "\n",
    "Class_A_data_1 = pd.read_excel(\"Shells Class A Data.xlsx\",sheet_name=\"Expt 1\")\n",
    "Class_A_data_2 = pd.read_excel(\"Shells Class A Data.xlsx\",sheet_name=\"Expt 2\")\n",
    "Class_A_data_3 = pd.read_excel(\"Shells Class A Data.xlsx\",sheet_name=\"Expt 3\")\n",
    "Class_A_data_6 = pd.read_excel(\"Shells Class A Data.xlsx\",sheet_name=\"Expt 6\")\n",
    "\n",
    "\n",
    "interaction_event_data_row_expt_1 = interaction_event_data_1[\"Acc. Frame Number\"].values.tolist()\n",
    "interaction_event_data_row_expt_2 = interaction_event_data_2[\"Acc. Frame Number\"].values.tolist()\n",
    "interaction_event_data_row_expt_3 = interaction_event_data_3[\"Acc. Frame Number\"].values.tolist()\n",
    "interaction_event_data_row_expt_6 = interaction_event_data_6[\"Acc. Frame Number\"].values.tolist()\n",
    "\n",
    "Class_A_data_row_expt_1 = Class_A_data_1[\"Acc. Frame Number\"].values.tolist()\n",
    "Class_A_data_row_expt_2 = Class_A_data_2[\"Acc. Frame Number\"].values.tolist()\n",
    "Class_A_data_row_expt_3 = Class_A_data_3[\"Acc. Frame Number\"].values.tolist()\n",
    "Class_A_data_row_expt_6 = Class_A_data_6[\"Acc. Frame Number\"].values.tolist()\n",
    "#%%\n",
    "interaction_events_data_expt_1 = []\n",
    "for i in interaction_event_data_row_expt_1:\n",
    "    interaction_events_data_expt_1.append(split_expt_1[i])\n",
    "    \n",
    "interaction_events_data_expt_2 = []\n",
    "for i in interaction_event_data_row_expt_2:\n",
    "    interaction_events_data_expt_2.append(split_expt_2[i])\n",
    "    \n",
    "interaction_events_data_expt_3 = []\n",
    "for i in interaction_event_data_row_expt_3:\n",
    "    interaction_events_data_expt_3.append(split_expt_3[i])\n",
    "    \n",
    "interaction_events_data_expt_6 = []\n",
    "for i in interaction_event_data_row_expt_6:\n",
    "    interaction_events_data_expt_6.append(split_expt_6[i])\n",
    "    \n",
    "Class_A_data_expt_1 = []\n",
    "for i in Class_A_data_row_expt_1:\n",
    "    Class_A_data_expt_1.append(split_expt_1[i])\n",
    "    \n",
    "Class_A_data_expt_2 = []\n",
    "for i in Class_A_data_row_expt_2:\n",
    "    Class_A_data_expt_2.append(split_expt_2[i])\n",
    "    \n",
    "Class_A_data_expt_3 = []\n",
    "for i in Class_A_data_row_expt_3:\n",
    "    Class_A_data_expt_3.append(split_expt_3[i])\n",
    "    \n",
    "Class_A_data_expt_6 = []\n",
    "for i in Class_A_data_row_expt_6:\n",
    "    Class_A_data_expt_6.append(split_expt_6[i])\n",
    "#%% \n",
    "window_size=int(100) #(window_size=10000/frame_rate_of_video)\n",
    "noverlap=int(0.5*window_size)\n",
    "nfft= 8192/32\n",
    "\n",
    "spectrograms_class_B=[]\n",
    "spectrograms_class_A=[]\n",
    "for i in interaction_events_data_expt_1:\n",
    "    freqs, times, spectrogram = signal.spectrogram(i, fs=10000, window=('hamming'),nperseg=window_size,noverlap=noverlap, nfft = nfft )\n",
    "    spectrogram=spectrogram.T\n",
    "    spectrograms_class_B.append(spectrogram)\n",
    "\n",
    "for i in interaction_events_data_expt_2:\n",
    "    freqs, times, spectrogram = signal.spectrogram(i, fs=10000, window=('hamming'),nperseg=window_size,noverlap=noverlap, nfft = nfft )\n",
    "    spectrogram=spectrogram.T\n",
    "    spectrograms_class_B.append(spectrogram)\n",
    "    \n",
    "for i in interaction_events_data_expt_3:\n",
    "    freqs, times, spectrogram = signal.spectrogram(i, fs=10000, window=('hamming'),nperseg=window_size,noverlap=noverlap, nfft = nfft )\n",
    "    spectrogram=spectrogram.T\n",
    "    spectrograms_class_B.append(spectrogram)   \n",
    "\n",
    "for i in interaction_events_data_expt_6:\n",
    "    freqs, times, spectrogram = signal.spectrogram(i, fs=10000, window=('hamming'),nperseg=window_size,noverlap=noverlap, nfft = nfft )\n",
    "    spectrogram=spectrogram.T\n",
    "    spectrograms_class_B.append(spectrogram)\n",
    "    \n",
    "for i in Class_A_data_expt_1:\n",
    "    freqs, times, spectrogram = signal.spectrogram(i, fs=10000, window=('hamming'),nperseg=window_size,noverlap=noverlap, nfft = nfft )\n",
    "    spectrogram=spectrogram.T\n",
    "    spectrograms_class_A.append(spectrogram)\n",
    "\n",
    "for i in Class_A_data_expt_2:\n",
    "    freqs, times, spectrogram = signal.spectrogram(i, fs=10000, window=('hamming'),nperseg=window_size,noverlap=noverlap, nfft = nfft )\n",
    "    spectrogram=spectrogram.T\n",
    "    spectrograms_class_A.append(spectrogram)\n",
    "    \n",
    "for i in Class_A_data_expt_3:\n",
    "    freqs, times, spectrogram = signal.spectrogram(i, fs=10000, window=('hamming'),nperseg=window_size,noverlap=noverlap, nfft = nfft )\n",
    "    spectrogram=spectrogram.T\n",
    "    spectrograms_class_A.append(spectrogram)   \n",
    "\n",
    "for i in Class_A_data_expt_6:\n",
    "    freqs, times, spectrogram = signal.spectrogram(i, fs=10000, window=('hamming'),nperseg=window_size,noverlap=noverlap, nfft = nfft )\n",
    "    spectrogram=spectrogram.T\n",
    "    spectrograms_class_A.append(spectrogram)\n",
    "#%%\n",
    "\n",
    "\n",
    "# Randomly select 60 values\n",
    "selected_values = random.sample(spectrograms_class_A, 100)\n",
    "# Assuming class1_data and class2_data are your spectrogram lists\n",
    "#class1_labels = [0] * len(spectrograms_class_A)  # E.g., \"0\" for class1\n",
    "class1_labels = [0] * len(selected_values) \n",
    "class2_labels = [1] * len(spectrograms_class_B)  # E.g., \"1\" for class2\n",
    "\n",
    "# Combine the data\n",
    "#X = np.concatenate((spectrograms_class_A, spectrograms_class_B), axis=0)\n",
    "X = np.concatenate((selected_values, spectrograms_class_B), axis=0)\n",
    "\n",
    "\n",
    "# Combine the labels\n",
    "Y = np.concatenate((class1_labels, class2_labels), axis=0)\n",
    "\n"
   ]
  },
  {
   "cell_type": "code",
   "execution_count": 8,
   "id": "262f56e4",
   "metadata": {},
   "outputs": [
    {
     "data": {
      "text/plain": [
       "(155, 17, 129)"
      ]
     },
     "execution_count": 8,
     "metadata": {},
     "output_type": "execute_result"
    }
   ],
   "source": [
    "X.shape"
   ]
  },
  {
   "cell_type": "code",
   "execution_count": 9,
   "id": "d9ef6782",
   "metadata": {},
   "outputs": [
    {
     "name": "stdout",
     "output_type": "stream",
     "text": [
      "Training samples: 124\n",
      "Validation samples: 15\n",
      "Test samples: 16\n"
     ]
    }
   ],
   "source": [
    "#%%%%%%%%%%%\n",
    "#CNN Model Actual Code\n",
    "\n",
    "#Splitting to train- validation - testing\n",
    "\n",
    "from sklearn.model_selection import train_test_split\n",
    "\n",
    "# First, split into 80% train and 20% temp (which will be further split into val and test)\n",
    "X_train, X_temp, Y_train, Y_temp = train_test_split(X, Y, test_size=0.2, random_state=2)\n",
    "\n",
    "# Split the 20% temp data into half (10% validation and 10% test)\n",
    "X_val, X_test, Y_val, Y_test = train_test_split(X_temp, Y_temp, test_size=0.5, random_state=2)\n",
    "\n",
    "print(f\"Training samples: {len(X_train)}\")\n",
    "print(f\"Validation samples: {len(X_val)}\")\n",
    "print(f\"Test samples: {len(X_test)}\")\n",
    "\n",
    "X_train_reshaped = X_train.reshape(X_train.shape[0],  129, 17)\n",
    "X_val_reshaped = X_val.reshape(X_val.shape[0], 129, 17)\n",
    "X_test_reshaped = X_test.reshape(X_test.shape[0],  129, 17)\n"
   ]
  },
  {
   "cell_type": "code",
   "execution_count": 10,
   "id": "d9f53ccd",
   "metadata": {},
   "outputs": [],
   "source": [
    "def minus_one_to_one_normalize(data):\n",
    "    return 2 * (data - np.min(data)) / (np.max(data) - np.min(data)) - 1\n",
    "X_train_normalized = minus_one_to_one_normalize(X_train_reshaped)\n",
    "X_val_normalized = minus_one_to_one_normalize(X_val_reshaped)\n",
    "X_test_normalized = minus_one_to_one_normalize(X_test_reshaped)\n"
   ]
  },
  {
   "cell_type": "code",
   "execution_count": 11,
   "id": "e61b3fb0",
   "metadata": {},
   "outputs": [
    {
     "data": {
      "text/plain": [
       "(124, 129, 17)"
      ]
     },
     "execution_count": 11,
     "metadata": {},
     "output_type": "execute_result"
    }
   ],
   "source": [
    "X_train_normalized.shape"
   ]
  },
  {
   "cell_type": "code",
   "execution_count": null,
   "id": "4b6c76b4",
   "metadata": {},
   "outputs": [],
   "source": [
    "from tensorflow.keras.models import Sequential\n",
    "from tensorflow.keras.layers import Conv2D, MaxPooling2D, BatchNormalization, GlobalAveragePooling2D, Dense, Dropout, LeakyReLU\n",
    "from tensorflow.keras.optimizers import RMSprop\n",
    "\n",
    "from tensorflow.keras.models import Sequential\n",
    "from tensorflow.keras.layers import Conv1D, MaxPooling1D, BatchNormalization, GlobalAveragePooling1D, Dense, Dropout, LeakyReLU\n",
    "from tensorflow.keras.optimizers import RMSprop\n",
    "\n",
    "from keras.models import Sequential\n",
    "from keras.layers import Conv1D, MaxPooling1D, BatchNormalization, Dropout, GlobalAveragePooling1D, Dense, Activation\n",
    "\n",
    "model = Sequential()\n",
    "\n",
    "# Conv1D layers\n",
    "model.add(Conv1D(2048, kernel_size=5, kernel_initializer='he_normal', padding='same', input_shape=(129, 17)))\n",
    "model.add(Activation('relu'))\n",
    "model.add(BatchNormalization())\n",
    "model.add(MaxPooling1D(pool_size=4))\n",
    "model.add(Dropout(0.2))\n",
    "\n",
    "model.add(Conv1D(1024, kernel_size=5, kernel_initializer='he_normal', padding='same'))\n",
    "model.add(Activation('relu'))\n",
    "model.add(BatchNormalization())\n",
    "model.add(MaxPooling1D(pool_size=4))\n",
    "model.add(Dropout(0.2))\n",
    "\n",
    "model.add(Conv1D(512, kernel_size=5, kernel_initializer='he_normal', padding='same'))\n",
    "model.add(Activation('relu'))\n",
    "model.add(BatchNormalization())\n",
    "model.add(MaxPooling1D(pool_size=4))\n",
    "model.add(Dropout(0.2))\n",
    "\n",
    "\n",
    "# Global Average Pooling\n",
    "model.add(GlobalAveragePooling1D())\n",
    "\n",
    "# Dense layers\n",
    "model.add(Dense(256, kernel_initializer='he_normal', activation='relu'))\n",
    "model.add(Dropout(0.2))\n",
    "\n",
    "model.add(Dense(64, kernel_initializer='he_normal', activation='relu'))\n",
    "model.add(Dropout(0.2))\n",
    "\n",
    "# Output layer\n",
    "model.add(Dense(1, activation='sigmoid'))\n",
    "\n",
    "from keras.regularizers import l1, l2, l1_l2\n",
    "\n",
    "# Display the model summary\n",
    "model.summary()\n",
    "\n"
   ]
  },
  {
   "cell_type": "code",
   "execution_count": null,
   "id": "bc240bbd",
   "metadata": {},
   "outputs": [],
   "source": [
    "#model.compile(optimizer='adam', loss='binary_crossentropy', metrics=['accuracy'])\n",
    "\n",
    "callbacks = [\n",
    "    keras.callbacks.ModelCheckpoint(\n",
    "        filepath=\"DL1.keras\",\n",
    "        save_best_only=True,\n",
    "        monitor=\"val_loss\")]\n",
    "optimizer = RMSprop(learning_rate=0.0001, rho=0.5)\n",
    "model.compile(optimizer=optimizer, loss='binary_crossentropy', metrics=['accuracy'])\n",
    "#model.compile(optimizer=optimizer, loss='kullback_leibler_divergence', metrics=['accuracy'])\n",
    "\n",
    "history = model.fit(X_train_normalized, Y_train, epochs=50, batch_size=16,  callbacks=callbacks, validation_data=(X_val_normalized, Y_val))"
   ]
  },
  {
   "cell_type": "code",
   "execution_count": 12,
   "id": "b7da0c2c",
   "metadata": {},
   "outputs": [
    {
     "name": "stdout",
     "output_type": "stream",
     "text": [
      "Train Accuracy: 88.71%\n"
     ]
    },
    {
     "data": {
      "image/png": "[encoded data removed]",
      "text/plain": [
       "<Figure size 1000x700 with 1 Axes>"
      ]
     },
     "metadata": {},
     "output_type": "display_data"
    }
   ],
   "source": [
    "# Evaluate the model on the test data\n",
    "\n",
    "test_model = keras.models.load_model(\n",
    "    \"DL1.keras\")\n",
    "loss, accuracy = test_model.evaluate(X_train_normalized, Y_train, verbose=0)\n",
    "\n",
    "print(f\"Train Accuracy: {accuracy*100:.2f}%\")\n",
    "\n",
    "import numpy as np\n",
    "import matplotlib.pyplot as plt\n",
    "import seaborn as sns\n",
    "from sklearn.metrics import confusion_matrix\n",
    "\n",
    "# Sample data (replace with your data)\n",
    "\n",
    "# 1. Get the model predictions\n",
    "predictions = test_model.predict(X_train_normalized)\n",
    "\n",
    "# 2. Convert predictions to class labels\n",
    "# Assuming binary classification, this will threshold the predictions at 0.5\n",
    "predicted_labels = np.where(predictions > 0.5, 1, 0)\n",
    "\n",
    "# 3. Compute the confusion matrix\n",
    "matrix = confusion_matrix(Y_train, predicted_labels)\n",
    "\n",
    "# Plot the confusion matrix\n",
    "plt.figure(figsize=(10,7))\n",
    "sns.heatmap(matrix, annot=True, cmap=\"Blues\", fmt=\"g\", cbar=False)\n",
    "plt.ylabel('True Label')\n",
    "plt.xlabel('Predicted Label')\n",
    "plt.title('Confusion Matrix')\n",
    "plt.show()"
   ]
  },
  {
   "cell_type": "code",
   "execution_count": 13,
   "id": "3d7098ac",
   "metadata": {},
   "outputs": [
    {
     "name": "stdout",
     "output_type": "stream",
     "text": [
      "Val Accuracy: 73.33%\n"
     ]
    },
    {
     "data": {
      "image/png": "[encoded data removed]",
      "text/plain": [
       "<Figure size 1000x700 with 1 Axes>"
      ]
     },
     "metadata": {},
     "output_type": "display_data"
    }
   ],
   "source": [
    "test_model = keras.models.load_model(\n",
    "    \"DL1.keras\")\n",
    "loss, accuracy = test_model.evaluate(X_val_normalized, Y_val, verbose=0)\n",
    "\n",
    "print(f\"Val Accuracy: {accuracy*100:.2f}%\")\n",
    "\n",
    "import numpy as np\n",
    "import matplotlib.pyplot as plt\n",
    "import seaborn as sns\n",
    "from sklearn.metrics import confusion_matrix\n",
    "\n",
    "# Sample data (replace with your data)\n",
    "\n",
    "# 1. Get the model predictions\n",
    "predictions = test_model.predict(X_val_normalized)\n",
    "\n",
    "# 2. Convert predictions to class labels\n",
    "# Assuming binary classification, this will threshold the predictions at 0.5\n",
    "predicted_labels = np.where(predictions > 0.5, 1, 0)\n",
    "\n",
    "# 3. Compute the confusion matrix\n",
    "matrix = confusion_matrix(Y_val, predicted_labels)\n",
    "\n",
    "# Plot the confusion matrix\n",
    "plt.figure(figsize=(10,7))\n",
    "sns.heatmap(matrix, annot=True, cmap=\"Blues\", fmt=\"g\", cbar=False)\n",
    "plt.ylabel('True Label')\n",
    "plt.xlabel('Predicted Label')\n",
    "plt.title('Confusion Matrix')\n",
    "plt.show()"
   ]
  },
  {
   "cell_type": "code",
   "execution_count": 14,
   "id": "7f0bae1a",
   "metadata": {},
   "outputs": [
    {
     "name": "stdout",
     "output_type": "stream",
     "text": [
      "Test Accuracy: 81.25%\n"
     ]
    },
    {
     "data": {
      "image/png": "[encoded data removed]",
      "text/plain": [
       "<Figure size 1000x700 with 1 Axes>"
      ]
     },
     "metadata": {},
     "output_type": "display_data"
    }
   ],
   "source": [
    "# Evaluate the model on the test data\n",
    "\n",
    "test_model = keras.models.load_model(\n",
    "    \"DL1.keras\")\n",
    "loss, accuracy = test_model.evaluate(X_test_normalized, Y_test, verbose=0)\n",
    "\n",
    "print(f\"Test Accuracy: {accuracy*100:.2f}%\")\n",
    "\n",
    "import numpy as np\n",
    "import matplotlib.pyplot as plt\n",
    "import seaborn as sns\n",
    "from sklearn.metrics import confusion_matrix\n",
    "\n",
    "# Sample data (replace with your data)\n",
    "\n",
    "# 1. Get the model predictions\n",
    "predictions = test_model.predict(X_test_normalized)\n",
    "\n",
    "# 2. Convert predictions to class labels\n",
    "# Assuming binary classification, this will threshold the predictions at 0.5\n",
    "predicted_labels = np.where(predictions > 0.5, 1, 0)\n",
    "\n",
    "# 3. Compute the confusion matrix\n",
    "matrix = confusion_matrix(Y_test, predicted_labels)\n",
    "\n",
    "# Plot the confusion matrix\n",
    "plt.figure(figsize=(10,7))\n",
    "sns.heatmap(matrix, annot=True, cmap=\"Blues\", fmt=\"g\", cbar=False)\n",
    "plt.ylabel('True Label')\n",
    "plt.xlabel('Predicted Label')\n",
    "plt.title('Confusion Matrix')\n",
    "plt.show()\n"
   ]
  },
  {
   "cell_type": "code",
   "execution_count": null,
   "id": "d6576e75",
   "metadata": {},
   "outputs": [],
   "source": [
    "## LIME ANALYSIS\n",
    "## Import required libraries / packages\n",
    "\n",
    "import numpy as np\n",
    "from tensorflow.keras import backend as K\n",
    "import matplotlib.pyplot as plt\n",
    "import math\n",
    "import scipy\n",
    "import scipy.io\n",
    "from PIL import Image\n",
    "from scipy import ndimage\n",
    "from tensorflow.keras.models import Sequential\n",
    "from tensorflow.keras.layers import Dense, Dropout, Flatten\n",
    "from tensorflow.keras.layers import Conv2D, MaxPooling2D\n",
    "from tensorflow.keras.utils import plot_model\n",
    "from tensorflow.keras.callbacks import ModelCheckpoint\n",
    "from tensorflow.keras.utils import to_categorical\n",
    "import tensorflow as tf\n",
    "# import tensorflow_addons as tfa\n",
    "\n",
    "#import pydot\n",
    "#import pydotplus\n",
    "#import graphviz\n",
    "from tensorflow.keras.preprocessing.image import load_img\n",
    "from tensorflow.keras.preprocessing.image import img_to_array\n",
    "from tensorflow.keras.models import Model\n",
    "import random\n",
    "from keras.models import load_model\n",
    "import pickle\n",
    "from sklearn.model_selection import train_test_split\n",
    "from sklearn.metrics import accuracy_score\n",
    "import glob\n",
    "import os\n",
    "import pandas as pd\n",
    "\n",
    "import types\n",
    "from lime.utils.generic_utils import has_arg\n",
    "from skimage.segmentation import felzenszwalb, slic, quickshift\n",
    "import copy\n",
    "from functools import partial\n",
    "\n",
    "import sklearn\n",
    "import sklearn.preprocessing\n",
    "from sklearn.utils import check_random_state\n",
    "from skimage.color import gray2rgb\n",
    "from tqdm.auto import tqdm\n",
    "\n",
    "import scipy.ndimage as ndi\n",
    "from skimage.segmentation._quickshift_cy import _quickshift_cython\n",
    "\n",
    "from lime import lime_base\n",
    "from lime.wrappers.scikit_image import SegmentationAlgorithm\n",
    "\n",
    "import skimage\n",
    "from matplotlib import colors\n",
    "from skimage.segmentation import mark_boundaries, find_boundaries\n",
    "from skimage.morphology import dilation,square\n",
    "from collections import Counter"
   ]
  },
  {
   "cell_type": "code",
   "execution_count": null,
   "id": "0abdc2de",
   "metadata": {},
   "outputs": [],
   "source": [
    "LX = X_train_normalized\n",
    "LY = Y_train\n",
    "\n",
    "model = keras.models.load_model(\"DL1.keras\")\n",
    "pred = model.predict(LX)\n",
    "\n",
    "pred_class = np.where(pred > 0.5, 1, 0)\n",
    "#pred_class = [1 if a < 0.5 else 0 for a in pred]\n",
    "correct_X_ind = np.where(pred_class.flatten() == LY)[0]\n",
    "print(correct_X_ind)\n"
   ]
  },
  {
   "cell_type": "code",
   "execution_count": null,
   "id": "717e3816",
   "metadata": {},
   "outputs": [],
   "source": [
    "import lime\n",
    "from lime import lime_image\n",
    "from matplotlib import pyplot as plt\n",
    "fname_out = \"C:\\Research\\Fall 2023\\Signal Quantification Work - Thesis\\CNN Model\\LIME\"\n",
    "\n",
    "seg_fn = 'quickshift'\n",
    "if seg_fn == 'quickshift':\n",
    "    k_size = 5   # number of s-pixels\n",
    "    num_s = 100   # number of perturbed samples\n",
    "elif seg_fn == 'slic': \n",
    "    k_size = 200\n",
    "    num_s = 400\n",
    "    \n",
    "explainer = lime_image.LimeImageExplainer()\n",
    "score = []"
   ]
  },
  {
   "cell_type": "code",
   "execution_count": null,
   "id": "5c049dfd",
   "metadata": {},
   "outputs": [],
   "source": [
    "for sample_ind in correct_X_ind:\n",
    "    sample = LX[sample_ind, :, :].astype('double')\n",
    "    y_samp = LY[sample_ind]     # Change accordingly for different seg_fn\n",
    "    explanation = explainer.explain_instance(sample, model, top_labels=2, hide_color=0, num_samples=num_s, num_features = k_size)\n",
    "    score.append(explanation.score)\n",
    "\n",
    "    if explanation.score > 0.75 and explanation.score <= 1:\n",
    "        temp, mask = explanation.get_image_and_mask(explanation.top_labels[0], positive_only=False, num_features = k_size, hide_rest=False)\n",
    "        plt.figure(figsize = (12,8))\n",
    "        plt.subplot(1, 2, 1)\n",
    "        plt.imshow(sample)\n",
    "        plt.subplot(1, 2, 2)\n",
    "        plt.imshow(mark_boundaries(temp / 2 + 0.5, mask))\n",
    "        if y_samp == 0:\n",
    "          plt.suptitle('No marker',fontsize= 14, fontweight = 'bold')\n",
    "        else:\n",
    "          plt.suptitle('With marker',fontsize= 14, fontweight = 'bold')\n",
    "        plt.savefig(fname_out+'\\\\local results\\\\'+str(sample_ind)+'_LIME_topten_plot.png',dpi = 400)\n",
    "        plt.close()\n",
    "\n",
    "        # save weights and watershed/lime ratios\n",
    "        weightRatio = []\n",
    "        for i, e in explanation.local_exp[explanation.top_labels[0]]:\n",
    "            weightRatio.append((i, e, explanation.local_pred[explanation.top_labels[0]],explanation.intercept[explanation.top_labels[0]],explanation.top_labels[0]))\n",
    "  \n",
    "        WR = pd.DataFrame(weightRatio)\n",
    "        WR.to_csv(fname_out+ str(sample_ind)+'_weightRatioPred_score'+str(round(explanation.score,2))+'_numseg'+str(len(explanation.local_exp[explanation.top_labels[0]]))+'.csv', index = False)\n",
    "        \n",
    "            \n",
    "score = np.array(score)\n",
    "np.save(fname_out+'\\\\'+seg_fn+'kerns'+str(k_size)+'_nums'+str(num_s)+'score.npy',score)\n"
   ]
  },
  {
   "cell_type": "code",
   "execution_count": 121,
   "id": "f830c07c",
   "metadata": {},
   "outputs": [],
   "source": [
    "# LIME Analysis \n",
    "import types\n",
    "from lime.utils.generic_utils import has_arg\n",
    "from skimage.segmentation import felzenszwalb, slic, quickshift\n",
    "import copy\n",
    "from functools import partial\n",
    "\n",
    "import sklearn\n",
    "import sklearn.preprocessing\n",
    "from sklearn.utils import check_random_state\n",
    "from skimage.color import gray2rgb\n",
    "from tqdm.auto import tqdm\n",
    "\n",
    "import scipy.ndimage as ndi\n",
    "from skimage.segmentation._quickshift_cy import _quickshift_cython\n",
    "\n",
    "from lime import lime_base\n",
    "from lime.wrappers.scikit_image import SegmentationAlgorithm\n",
    "\n",
    "import skimage\n",
    "from matplotlib import colors\n",
    "from skimage.segmentation import mark_boundaries, find_boundaries\n",
    "from skimage.morphology import dilation,square\n",
    "from collections import Counter\n",
    "\n",
    "\n",
    "class BaseWrapper(object):\n",
    "    \"\"\"Base class for LIME Scikit-Image wrapper\n",
    "    Args:\n",
    "        target_fn: callable function or class instance\n",
    "        target_params: dict, parameters to pass to the target_fn\n",
    "    'target_params' takes parameters required to instanciate the\n",
    "        desired Scikit-Image class/model\n",
    "    \"\"\"\n",
    "\n",
    "    def __init__(self, target_fn=None, **target_params):\n",
    "        self.target_fn = target_fn\n",
    "        self.target_params = target_params\n",
    "\n",
    "        self.target_fn = target_fn\n",
    "        self.target_params = target_params\n",
    "\n",
    "    def _check_params(self, parameters):\n",
    "        \"\"\"Checks for mistakes in 'parameters'\n",
    "        Args :\n",
    "            parameters: dict, parameters to be checked\n",
    "        Raises :\n",
    "            ValueError: if any parameter is not a valid argument for the target function\n",
    "                or the target function is not defined\n",
    "            TypeError: if argument parameters is not iterable\n",
    "         \"\"\"\n",
    "        a_valid_fn = []\n",
    "        if self.target_fn is None:\n",
    "            if callable(self):\n",
    "                a_valid_fn.append(self.__call__)\n",
    "            else:\n",
    "                raise TypeError('invalid argument: tested object is not callable,\\\n",
    "                 please provide a valid target_fn')\n",
    "        elif isinstance(self.target_fn, types.FunctionType) \\\n",
    "                or isinstance(self.target_fn, types.MethodType):\n",
    "            a_valid_fn.append(self.target_fn)\n",
    "        else:\n",
    "            a_valid_fn.append(self.target_fn.__call__)\n",
    "\n",
    "        if not isinstance(parameters, str):\n",
    "            for p in parameters:\n",
    "                for fn in a_valid_fn:\n",
    "                    if has_arg(fn, p):\n",
    "                        pass\n",
    "                    else:\n",
    "                        raise ValueError('{} is not a valid parameter'.format(p))\n",
    "        else:\n",
    "            raise TypeError('invalid argument: list or dictionnary expected')\n",
    "\n",
    "    def set_params(self, **params):\n",
    "        \"\"\"Sets the parameters of this estimator.\n",
    "        Args:\n",
    "            **params: Dictionary of parameter names mapped to their values.\n",
    "        Raises :\n",
    "            ValueError: if any parameter is not a valid argument\n",
    "                for the target function\n",
    "        \"\"\"\n",
    "        self._check_params(params)\n",
    "        self.target_params = params\n",
    "\n",
    "    def filter_params(self, fn, override=None):\n",
    "        \"\"\"Filters `target_params` and return those in `fn`'s arguments.\n",
    "        Args:\n",
    "            fn : arbitrary function\n",
    "            override: dict, values to override target_params\n",
    "        Returns:\n",
    "            result : dict, dictionary containing variables\n",
    "            in both target_params and fn's arguments.\n",
    "        \"\"\"\n",
    "        override = override or {}\n",
    "        result = {}\n",
    "        for name, value in self.target_params.items():\n",
    "            if has_arg(fn, name):\n",
    "                result.update({name: value})\n",
    "        result.update(override)\n",
    "        return result\n",
    "\n",
    "\n",
    "class SegmentationAlgorithm(BaseWrapper):\n",
    "      \"\"\" Define the image segmentation function based on Scikit-Image\n",
    "           implementation and a set of provided parameters\n",
    "          Args:\n",
    "             algo_type: string, segmentation algorithm among the following:\n",
    "                 'quickshift', 'slic', 'felzenszwalb'\n",
    "             target_params: dict, algorithm parameters (valid model paramters\n",
    "                 as define in Scikit-Image documentation)\n",
    "      \"\"\"\n",
    "\n",
    "def __init__(self, algo_type, **target_params):\n",
    "       \n",
    "    self.algo_type = algo_type\n",
    "    if (self.algo_type == 'quickshift'):\n",
    "            BaseWrapper.__init__(self, quickshift, **target_params)\n",
    "            kwargs = self.filter_params(quickshift)\n",
    "            self.set_params(**kwargs)\n",
    "    elif (self.algo_type == 'felzenszwalb'):\n",
    "            BaseWrapper.__init__(self, felzenszwalb, **target_params)\n",
    "            kwargs = self.filter_params(felzenszwalb)\n",
    "            self.set_params(**kwargs)\n",
    "    elif (self.algo_type == 'slic'):\n",
    "            BaseWrapper.__init__(self, slic, **target_params)\n",
    "            kwargs = self.filter_params(slic)\n",
    "            self.set_params(**kwargs)\n",
    "\n",
    "def __call__(self, *args):\n",
    "    return self.target_fn(args[0], **self.target_params)\n",
    "\n",
    "\n",
    "\n",
    "class ImageExplanation(object):\n",
    "    def __init__(self, image, segments):\n",
    "        \"\"\"Init function.\n",
    "        Args:\n",
    "            image: 3d numpy array\n",
    "            segments: 2d numpy array, with the output from skimage.segmentation\n",
    "        \"\"\"\n",
    "        self.image = image\n",
    "        self.segments = segments\n",
    "        self.intercept = {}\n",
    "        self.local_exp = {}\n",
    "        self.local_pred = None\n",
    "\n",
    "    def get_image_and_mask(self, label, positive_only=True, negative_only=False, hide_rest=False,\n",
    "                           num_features=5, min_weight=0.):\n",
    "        \"\"\"Init function.\n",
    "        Args:\n",
    "            label: label to explain\n",
    "            positive_only: if True, only take superpixels that positively contribute to\n",
    "                the prediction of the label.\n",
    "            negative_only: if True, only take superpixels that negatively contribute to\n",
    "                the prediction of the label. If false, and so is positive_only, then both\n",
    "                negativey and positively contributions will be taken.\n",
    "                Both can't be True at the same time\n",
    "            hide_rest: if True, make the non-explanation part of the return\n",
    "                image gray\n",
    "            num_features: number of superpixels to include in explanation\n",
    "            min_weight: minimum weight of the superpixels to include in explanation\n",
    "        Returns:\n",
    "            (image, mask), where image is a 3d numpy array and mask is a 2d\n",
    "            numpy array that can be used with\n",
    "            skimage.segmentation.mark_boundaries\n",
    "        \"\"\"\n",
    "        if label not in self.local_exp:\n",
    "            raise KeyError('Label not in explanation')\n",
    "        if positive_only & negative_only:\n",
    "            raise ValueError(\"Positive_only and negative_only cannot be true at the same time.\")\n",
    "        segments = self.segments\n",
    "        image = self.image\n",
    "        exp = self.local_exp[label]\n",
    "        mask = np.zeros(segments.shape, segments.dtype)\n",
    "        if hide_rest:\n",
    "            temp = np.zeros(self.image.shape)\n",
    "        else:\n",
    "            temp = self.image.copy()\n",
    "        if positive_only:\n",
    "            fs = [x[0] for x in exp\n",
    "                  if x[1] > 0 and x[1] > min_weight][:num_features]\n",
    "        if negative_only:\n",
    "            fs = [x[0] for x in exp\n",
    "                  if x[1] < 0 and abs(x[1]) > min_weight][:num_features]\n",
    "        if positive_only or negative_only:\n",
    "            for f in fs:\n",
    "                temp[segments == f] = image[segments == f].copy()\n",
    "                mask[segments == f] = 1\n",
    "            return temp, mask\n",
    "        else:\n",
    "            for f, w in exp[:num_features]:\n",
    "                if np.abs(w) < min_weight:\n",
    "                    continue\n",
    "                c = 0 if w < 0 else 1\n",
    "                mask[segments == f] = -1 if w < 0 else 1\n",
    "                temp[segments == f] = image[segments == f].copy()\n",
    "                temp[segments == f, c] = np.max(image)\n",
    "            return temp, mask\n",
    "\n",
    "\n",
    "class LimeImageExplainer(object):\n",
    "    \"\"\"Explains predictions on Image (i.e. matrix) data.\n",
    "    For numerical features, perturb them by sampling from a Normal(0,1) and\n",
    "    doing the inverse operation of mean-centering and scaling, according to the\n",
    "    means and stds in the training data. For categorical features, perturb by\n",
    "    sampling according to the training distribution, and making a binary\n",
    "    feature that is 1 when the value is the same as the instance being\n",
    "    explained.\"\"\"\n",
    "\n",
    "    def __init__(self, kernel_width=.25, kernel=None, verbose=False,\n",
    "                 feature_selection='auto', random_state=None):\n",
    "        \"\"\"Init function.\n",
    "        Args:\n",
    "            kernel_width: kernel width for the exponential kernel.\n",
    "            If None, defaults to sqrt(number of columns) * 0.75.\n",
    "            kernel: similarity kernel that takes euclidean distances and kernel\n",
    "                width as input and outputs weights in (0,1). If None, defaults to\n",
    "                an exponential kernel.\n",
    "            verbose: if true, print local prediction values from linear model\n",
    "            feature_selection: feature selection method. can be\n",
    "                'forward_selection', 'lasso_path', 'none' or 'auto'.\n",
    "                See function 'explain_instance_with_data' in lime_base.py for\n",
    "                details on what each of the options does.\n",
    "            random_state: an integer or numpy.RandomState that will be used to\n",
    "                generate random numbers. If None, the random state will be\n",
    "                initialized using the internal numpy seed.\n",
    "        \"\"\"\n",
    "        kernel_width = float(kernel_width)\n",
    "\n",
    "        if kernel is None:\n",
    "            def kernel(d, kernel_width):\n",
    "                return np.sqrt(np.exp(-(d ** 2) / kernel_width ** 2))\n",
    "\n",
    "        kernel_fn = partial(kernel, kernel_width=kernel_width)\n",
    "\n",
    "        self.random_state = check_random_state(random_state)\n",
    "        self.feature_selection = feature_selection\n",
    "        self.base = lime_base.LimeBase(kernel_fn, verbose, random_state=self.random_state)\n",
    "\n",
    "    def explain_instance(self, image, classifier_fn, labels=(1,),\n",
    "                         hide_color=0,\n",
    "                         top_labels=5, num_features=10000, num_samples=1000,\n",
    "                         batch_size=10,\n",
    "                         segmentation_fn=None, k_size = 100,\n",
    "                         stack = 20,\n",
    "                         distance_metric='cosine',\n",
    "                         model_regressor=None,\n",
    "                         random_seed=None):\n",
    "        global  yuhao_exp \n",
    "        global  yuhao_score \n",
    "        global  yuhao_origpred \n",
    "        global  yuhao_label\n",
    "        global  yuhao_distance\n",
    "        global  yuhao_segment\n",
    "        global  yuhao_data\n",
    "        \"\"\"Generates explanations for a prediction.\n",
    "        First, we generate neighborhood data by randomly perturbing features\n",
    "        from the instance (see __data_inverse). We then learn locally weighted\n",
    "        linear models on this neighborhood data to explain each of the classes\n",
    "        in an interpretable way (see lime_base.py).\n",
    "        Args:\n",
    "            image: 3 dimension RGB image. If this is only two dimensional,\n",
    "                we will assume it's a grayscale image and call gray2rgb.\n",
    "            classifier_fn: classifier prediction probability function, which\n",
    "                takes a numpy array and outputs prediction probabilities.  For\n",
    "                ScikitClassifiers , this is classifier.predict_proba.\n",
    "            labels: iterable with labels to be explained.\n",
    "            hide_color: TODO\n",
    "            top_labels: if not None, ignore labels and produce explanations for\n",
    "                the K labels with highest prediction probabilities, where K is\n",
    "                this parameter.\n",
    "            num_features: maximum number of features present in explanation\n",
    "            num_samples: size of the neighborhood to learn the linear model\n",
    "            batch_size: TODO\n",
    "            distance_metric: the distance metric to use for weights.\n",
    "            model_regressor: sklearn regressor to use in explanation. Defaults\n",
    "            to Ridge regression in LimeBase. Must have model_regressor.coef_\n",
    "            and 'sample_weight' as a parameter to model_regressor.fit()\n",
    "            segmentation_fn: SegmentationAlgorithm, wrapped skimage\n",
    "            segmentation function\n",
    "            random_seed: integer used as random seed for the segmentation\n",
    "                algorithm. If None, a random integer, between 0 and 1000,\n",
    "                will be generated using the internal random number generator.\n",
    "        Returns:\n",
    "            An ImageExplanation object (see lime_image.py) with the corresponding\n",
    "            explanations.\n",
    "        \"\"\"\n",
    "        if len(image.shape) == 3:\n",
    "            image = gray2rgb(image)\n",
    "        if random_seed is None:\n",
    "            random_seed = self.random_state.randint(0, high=1000)\n",
    "\n",
    "        if segmentation_fn is None:\n",
    "             segmentation_fn = SegmentationAlgorithm('felzenszwalb', scale=50, sigma=0.8, min_size = 2, multichannel=True)\n",
    "#             segmentation_fn = SegmentationAlgorithm('quickshift', kernel_size=1,\n",
    "#                                                    max_dist=5, ratio=0.2,\n",
    "#                                                    random_seed=random_seed)\n",
    "            # segmentation_fn = SegmentationAlgorithm('slic',n_segments=k_size, compactness=1000, max_iter=5, sigma=0.8, channel_axis = -1)\n",
    "        # try:\n",
    "          #  segmentation_fn = SegmentationAlgorithm('slic',n_segments=k_size, compactness=1000, max_iter=5, sigma=0.8, channel_axis = -1)\n",
    "          #  segments = segmentation_fn(image)\n",
    "             # segments = np.arange(0,k_size).reshape((int(np.sqrt(k_size)),int(np.sqrt(k_size))))\n",
    "             segments = np.arange(0,k_size).reshape(C1, C2)\n",
    "             yuhao_segment = segments \n",
    "        # except ValueError as e:\n",
    "        #     raise e\n",
    "\n",
    "        fudged_image = image.copy()\n",
    "        print(\"fudged image shape\", fudged_image.shape)\n",
    "        if hide_color is None:\n",
    "            for x in np.unique(segments):\n",
    "                fudged_image[segments == x] = (\n",
    "                    np.mean(image[segments == x][:, 0]),\n",
    "                    np.mean(image[segments == x][:, 1]),\n",
    "                    np.mean(image[segments == x][:, 2]))\n",
    "        else:\n",
    "            fudged_image[:] = hide_color\n",
    "\n",
    "        top = labels\n",
    "\n",
    "        data, labels = self.data_labels(image, fudged_image, segments, stack,\n",
    "                                        classifier_fn, num_samples,\n",
    "                                        batch_size=batch_size)\n",
    "        yuhao_data = data\n",
    "\n",
    "        distances = sklearn.metrics.pairwise_distances(\n",
    "            data,\n",
    "            data[0].reshape(1, -1),\n",
    "            metric=distance_metric\n",
    "        ).ravel()\n",
    "        yuhao_distance = distances\n",
    "\n",
    "        ret_exp = ImageExplanation(image, segments)\n",
    "        if top_labels:\n",
    "            top = np.argsort(labels[0])[-top_labels:]\n",
    "            ret_exp.top_labels = list(top)\n",
    "            ret_exp.top_labels.reverse()\n",
    "        for label in top:\n",
    "            (ret_exp.intercept[label],\n",
    "             ret_exp.local_exp[label],\n",
    "             ret_exp.score, ret_exp.local_pred) = self.base.explain_instance_with_data(\n",
    "                data, labels, distances, label, num_features,\n",
    "                model_regressor=model_regressor,\n",
    "                feature_selection='auto')\n",
    "#            print(top)\n",
    "            yuhao_label = labels\n",
    "            yuhao_exp = ret_exp.local_exp\n",
    "            yuhao_score = ret_exp.score\n",
    "            yuhao_origpred = ret_exp.local_pred\n",
    "#            print(ret_exp.local_exp)\n",
    "#            print(ret_exp.score)\n",
    "#            print(ret_exp.local_pred)\n",
    "            #self.feature_selection\n",
    "        return ret_exp\n",
    "\n",
    "\n",
    "    def data_labels(self,\n",
    "                    image,\n",
    "                    fudged_image,\n",
    "                    segments,\n",
    "                    stack,\n",
    "                    classifier_fn,\n",
    "                    num_samples,\n",
    "                    batch_size=10):\n",
    "        \"\"\"Generates images and predictions in the neighborhood of this image.\n",
    "        Args:\n",
    "            image: 3d numpy array, the image\n",
    "            fudged_image: 3d numpy array, image to replace original image when\n",
    "                superpixel is turned off\n",
    "            segments: segmentation of the image\n",
    "            classifier_fn: function that takes a list of images and returns a\n",
    "                matrix of prediction probabilities\n",
    "            num_samples: size of the neighborhood to learn the linear model\n",
    "            batch_size: classifier_fn will be called on batches of this size.\n",
    "        Returns:\n",
    "            A tuple (data, labels), where:\n",
    "                data: dense num_samples * num_superpixels\n",
    "                labels: prediction probabilities matrix\n",
    "        \"\"\"\n",
    "        global yuhao_imgs\n",
    "        \n",
    "        yuhao_imgs = []\n",
    "        n_features = np.unique(segments).shape[0] * stack\n",
    "        data = self.random_state.randint(0, 2, num_samples * n_features)\\\n",
    "            .reshape((num_samples, n_features))\n",
    "        labels = []\n",
    "        data[0, :] = 1\n",
    "        imgs = []\n",
    "      \n",
    "        for row in tqdm(data):\n",
    "            temp = copy.deepcopy(image)\n",
    "            zeros = np.where(row == 0)[0]\n",
    "            mask = np.zeros((segments.shape[0],segments.shape[1],stack)).astype(bool)\n",
    "            #print(zeros)\n",
    "            #print(\"mask shape:\", mask.shape)\n",
    "            #print(\"temp shape:\", temp.shape)\n",
    "            #print(\"fudged_image shape:\", fudged_image.shape)\n",
    "            #print(\"segments shape:\", segments.shape)\n",
    "            #print(\"mask shape\", mask.shape)\n",
    "            for z in zeros:\n",
    "                #print(mask[ segments == 10%17])\n",
    "                mask[segments == z%2193, int(z/2193)] = True\n",
    "            temp[mask] = fudged_image[mask]\n",
    "            imgs.append(temp)\n",
    "            if len(imgs) == batch_size:\n",
    "                preds = classifier_fn(np.array(imgs))\n",
    "                labels.extend(preds)\n",
    "                yuhao_imgs.append(np.array(imgs))\n",
    "                imgs = []\n",
    "            \n",
    "        if len(imgs) > 0:\n",
    "            preds = classifier_fn(np.array(imgs))\n",
    "            labels.extend(preds)\n",
    "            yuhao_imgs.append(np.array(imgs))\n",
    "        return data, np.array(labels)\n"
   ]
  },
  {
   "cell_type": "code",
   "execution_count": 118,
   "id": "92e52163",
   "metadata": {},
   "outputs": [
    {
     "name": "stdout",
     "output_type": "stream",
     "text": [
      "LX shape (124, 129, 17)\n",
      "LY shape (124,)\n",
      "110\n"
     ]
    }
   ],
   "source": [
    "\n",
    "\n",
    "# seg_fn = 'slic'\n",
    "# LX = np.load('cwm_markers_dataset/LX.npy')\n",
    "# LY = np.load('cwm_markers_dataset/LXY.npy')\n",
    "\n",
    "LX = X_train_normalized\n",
    "LY = Y_train\n",
    "\n",
    "\n",
    "print(\"LX shape\", LX.shape)\n",
    "print(\"LY shape\", LY.shape)\n",
    "\n",
    "\n",
    "\n",
    "model = keras.models.load_model(\"DL1.keras\")\n",
    "pred = model.predict(LX)\n",
    "# LY = np.array([1 if a == 0 else 0 for a in Y])\n",
    "pred_class = np.where(pred > 0.5, 1, 0)\n",
    "#pred_class = [1 if a < 0.5 else 0 for a in pred]\n",
    "correct_X_ind = np.where(pred_class.flatten() == LY)[0]\n",
    "print(len(correct_X_ind))\n",
    "\n"
   ]
  },
  {
   "cell_type": "code",
   "execution_count": 119,
   "id": "71f54c48",
   "metadata": {},
   "outputs": [],
   "source": [
    "import lime\n",
    "from lime import lime_image\n",
    "from matplotlib import pyplot as plt\n",
    "\n",
    "sam_l = 1\n",
    "stack = 3  # Tensor size\n",
    "C1 = 129  # NUmber of frequency bands in spectrogram\n",
    "C2 = 17   # Number of time intervals in spectrogram\n",
    "stack_shift = 1\n",
    "window_length = 300\n",
    "train_size = 0.9\n",
    "n_class = 2\n",
    "k_size = C1*C2\n",
    "num_s = 3500   # Number of perturbations\n",
    "\n",
    "channel = 4    # Number of data channels \n",
    "inter_period = 5400\n",
    "lag = 0\n",
    "fs = 2000\n",
    "w_shift = int(window_length/2)\n",
    "batch_size = 32\n",
    "epochs = 2000   # Number of epochs\n",
    "lr = 0.0002     # Learning rate\n",
    "\n",
    "# Rename file directories \n",
    "fname_out = 'C:\\Research\\Fall 2023\\Signal Quantification Work - Thesis\\CNN Model\\LIME'\n",
    "data_f = fname_out +'/'+str(sam_l)+'s_continuous/inter_'+str(inter_period)+'s/with_seizure/DPGMM_C'+'/window'+str(window_length)+'/shift'+str(w_shift)\n",
    "save_data_f = data_f +'/stack'+str(stack)+'_shift'+str(stack_shift)+'/scaled01'        #############\n",
    "save_f = fname_out +'/'+str(n_class)+'class/CNN_best_train_lr'+str(lr)+'_epoch'+str(epochs) \n",
    "\n",
    "\n",
    "exp = LimeImageExplainer()\n",
    "\n"
   ]
  },
  {
   "cell_type": "code",
   "execution_count": 120,
   "id": "20bfb9cb",
   "metadata": {
    "scrolled": false
   },
   "outputs": [
    {
     "name": "stdout",
     "output_type": "stream",
     "text": [
      "fudged image shape (129, 17, 3)\n"
     ]
    },
    {
     "data": {
      "application/vnd.jupyter.widget-view+json": {
       "model_id": "92b9184bd1e245cbaaf9262d79702aef",
       "version_major": 2,
       "version_minor": 0
      },
      "text/plain": [
       "  0%|          | 0/3500 [00:00<?, ?it/s]"
      ]
     },
     "metadata": {},
     "output_type": "display_data"
    },
    {
     "name": "stdout",
     "output_type": "stream",
     "text": [
      "fudged image shape (129, 17, 3)\n"
     ]
    },
    {
     "data": {
      "application/vnd.jupyter.widget-view+json": {
       "model_id": "e76e5ed7aade486d83cfb3bc3e9b56e2",
       "version_major": 2,
       "version_minor": 0
      },
      "text/plain": [
       "  0%|          | 0/3500 [00:00<?, ?it/s]"
      ]
     },
     "metadata": {},
     "output_type": "display_data"
    },
    {
     "name": "stdout",
     "output_type": "stream",
     "text": [
      "fudged image shape (129, 17, 3)\n"
     ]
    },
    {
     "data": {
      "application/vnd.jupyter.widget-view+json": {
       "model_id": "9073aea016d9425d8d4911dc738c2d92",
       "version_major": 2,
       "version_minor": 0
      },
      "text/plain": [
       "  0%|          | 0/3500 [00:00<?, ?it/s]"
      ]
     },
     "metadata": {},
     "output_type": "display_data"
    },
    {
     "name": "stdout",
     "output_type": "stream",
     "text": [
      "fudged image shape (129, 17, 3)\n"
     ]
    },
    {
     "data": {
      "application/vnd.jupyter.widget-view+json": {
       "model_id": "cab9873873a4453083e89d2e845bbbb3",
       "version_major": 2,
       "version_minor": 0
      },
      "text/plain": [
       "  0%|          | 0/3500 [00:00<?, ?it/s]"
      ]
     },
     "metadata": {},
     "output_type": "display_data"
    },
    {
     "name": "stdout",
     "output_type": "stream",
     "text": [
      "fudged image shape (129, 17, 3)\n"
     ]
    },
    {
     "data": {
      "application/vnd.jupyter.widget-view+json": {
       "model_id": "775801d380c64c2ea13a9f55fac7436f",
       "version_major": 2,
       "version_minor": 0
      },
      "text/plain": [
       "  0%|          | 0/3500 [00:00<?, ?it/s]"
      ]
     },
     "metadata": {},
     "output_type": "display_data"
    },
    {
     "name": "stdout",
     "output_type": "stream",
     "text": [
      "fudged image shape (129, 17, 3)\n"
     ]
    },
    {
     "data": {
      "application/vnd.jupyter.widget-view+json": {
       "model_id": "d1206fe5aaba47c8bdb8ff8f50571ee8",
       "version_major": 2,
       "version_minor": 0
      },
      "text/plain": [
       "  0%|          | 0/3500 [00:00<?, ?it/s]"
      ]
     },
     "metadata": {},
     "output_type": "display_data"
    },
    {
     "name": "stdout",
     "output_type": "stream",
     "text": [
      "fudged image shape (129, 17, 3)\n"
     ]
    },
    {
     "data": {
      "application/vnd.jupyter.widget-view+json": {
       "model_id": "0e46d05131e745068d8a324cebdbd90b",
       "version_major": 2,
       "version_minor": 0
      },
      "text/plain": [
       "  0%|          | 0/3500 [00:00<?, ?it/s]"
      ]
     },
     "metadata": {},
     "output_type": "display_data"
    },
    {
     "name": "stdout",
     "output_type": "stream",
     "text": [
      "fudged image shape (129, 17, 3)\n"
     ]
    },
    {
     "data": {
      "application/vnd.jupyter.widget-view+json": {
       "model_id": "33d6f2bac36c4b919b0d9b7aa9350ca6",
       "version_major": 2,
       "version_minor": 0
      },
      "text/plain": [
       "  0%|          | 0/3500 [00:00<?, ?it/s]"
      ]
     },
     "metadata": {},
     "output_type": "display_data"
    },
    {
     "name": "stdout",
     "output_type": "stream",
     "text": [
      "fudged image shape (129, 17, 3)\n"
     ]
    },
    {
     "data": {
      "application/vnd.jupyter.widget-view+json": {
       "model_id": "a840e0be37ef446dba240ae1aceab8bf",
       "version_major": 2,
       "version_minor": 0
      },
      "text/plain": [
       "  0%|          | 0/3500 [00:00<?, ?it/s]"
      ]
     },
     "metadata": {},
     "output_type": "display_data"
    },
    {
     "name": "stdout",
     "output_type": "stream",
     "text": [
      "fudged image shape (129, 17, 3)\n"
     ]
    },
    {
     "data": {
      "application/vnd.jupyter.widget-view+json": {
       "model_id": "0f202b51b73e45828fb66e9b1aad6fb5",
       "version_major": 2,
       "version_minor": 0
      },
      "text/plain": [
       "  0%|          | 0/3500 [00:00<?, ?it/s]"
      ]
     },
     "metadata": {},
     "output_type": "display_data"
    },
    {
     "name": "stdout",
     "output_type": "stream",
     "text": [
      "fudged image shape (129, 17, 3)\n"
     ]
    },
    {
     "data": {
      "application/vnd.jupyter.widget-view+json": {
       "model_id": "33d720966e6d461099a3c862fd80a24f",
       "version_major": 2,
       "version_minor": 0
      },
      "text/plain": [
       "  0%|          | 0/3500 [00:00<?, ?it/s]"
      ]
     },
     "metadata": {},
     "output_type": "display_data"
    },
    {
     "name": "stdout",
     "output_type": "stream",
     "text": [
      "fudged image shape (129, 17, 3)\n"
     ]
    },
    {
     "data": {
      "application/vnd.jupyter.widget-view+json": {
       "model_id": "3b6cae1a433040e38c12d8166b2f0afb",
       "version_major": 2,
       "version_minor": 0
      },
      "text/plain": [
       "  0%|          | 0/3500 [00:00<?, ?it/s]"
      ]
     },
     "metadata": {},
     "output_type": "display_data"
    },
    {
     "name": "stdout",
     "output_type": "stream",
     "text": [
      "fudged image shape (129, 17, 3)\n"
     ]
    },
    {
     "data": {
      "application/vnd.jupyter.widget-view+json": {
       "model_id": "933809cf121c4cee8dd159a79d8a5b64",
       "version_major": 2,
       "version_minor": 0
      },
      "text/plain": [
       "  0%|          | 0/3500 [00:00<?, ?it/s]"
      ]
     },
     "metadata": {},
     "output_type": "display_data"
    },
    {
     "name": "stdout",
     "output_type": "stream",
     "text": [
      "fudged image shape (129, 17, 3)\n"
     ]
    },
    {
     "data": {
      "application/vnd.jupyter.widget-view+json": {
       "model_id": "f976542d0a7f49199bbdc5f603f83f1d",
       "version_major": 2,
       "version_minor": 0
      },
      "text/plain": [
       "  0%|          | 0/3500 [00:00<?, ?it/s]"
      ]
     },
     "metadata": {},
     "output_type": "display_data"
    },
    {
     "name": "stdout",
     "output_type": "stream",
     "text": [
      "fudged image shape (129, 17, 3)\n"
     ]
    },
    {
     "data": {
      "application/vnd.jupyter.widget-view+json": {
       "model_id": "2c6eb88ff0f849dcbaaa0ef24faf73c5",
       "version_major": 2,
       "version_minor": 0
      },
      "text/plain": [
       "  0%|          | 0/3500 [00:00<?, ?it/s]"
      ]
     },
     "metadata": {},
     "output_type": "display_data"
    },
    {
     "name": "stdout",
     "output_type": "stream",
     "text": [
      "fudged image shape (129, 17, 3)\n"
     ]
    },
    {
     "data": {
      "application/vnd.jupyter.widget-view+json": {
       "model_id": "180ec14e68f94763b2dc2f8ca33ff2ed",
       "version_major": 2,
       "version_minor": 0
      },
      "text/plain": [
       "  0%|          | 0/3500 [00:00<?, ?it/s]"
      ]
     },
     "metadata": {},
     "output_type": "display_data"
    },
    {
     "name": "stdout",
     "output_type": "stream",
     "text": [
      "fudged image shape (129, 17, 3)\n"
     ]
    },
    {
     "data": {
      "application/vnd.jupyter.widget-view+json": {
       "model_id": "1a5035bcaf8f4ee0a614dd9670980589",
       "version_major": 2,
       "version_minor": 0
      },
      "text/plain": [
       "  0%|          | 0/3500 [00:00<?, ?it/s]"
      ]
     },
     "metadata": {},
     "output_type": "display_data"
    },
    {
     "name": "stdout",
     "output_type": "stream",
     "text": [
      "fudged image shape (129, 17, 3)\n"
     ]
    },
    {
     "data": {
      "application/vnd.jupyter.widget-view+json": {
       "model_id": "13eaee4ea390414b96fdcc07a3d6eae7",
       "version_major": 2,
       "version_minor": 0
      },
      "text/plain": [
       "  0%|          | 0/3500 [00:00<?, ?it/s]"
      ]
     },
     "metadata": {},
     "output_type": "display_data"
    },
    {
     "name": "stdout",
     "output_type": "stream",
     "text": [
      "fudged image shape (129, 17, 3)\n"
     ]
    },
    {
     "data": {
      "application/vnd.jupyter.widget-view+json": {
       "model_id": "440001d5b595454b87eebb4e9883d3a4",
       "version_major": 2,
       "version_minor": 0
      },
      "text/plain": [
       "  0%|          | 0/3500 [00:00<?, ?it/s]"
      ]
     },
     "metadata": {},
     "output_type": "display_data"
    },
    {
     "name": "stdout",
     "output_type": "stream",
     "text": [
      "fudged image shape (129, 17, 3)\n"
     ]
    },
    {
     "data": {
      "application/vnd.jupyter.widget-view+json": {
       "model_id": "6462bb9f3847461ba38aa36e76cae521",
       "version_major": 2,
       "version_minor": 0
      },
      "text/plain": [
       "  0%|          | 0/3500 [00:00<?, ?it/s]"
      ]
     },
     "metadata": {},
     "output_type": "display_data"
    },
    {
     "name": "stdout",
     "output_type": "stream",
     "text": [
      "fudged image shape (129, 17, 3)\n"
     ]
    },
    {
     "data": {
      "application/vnd.jupyter.widget-view+json": {
       "model_id": "6977bda4211f456eb6743603aa49735f",
       "version_major": 2,
       "version_minor": 0
      },
      "text/plain": [
       "  0%|          | 0/3500 [00:00<?, ?it/s]"
      ]
     },
     "metadata": {},
     "output_type": "display_data"
    },
    {
     "name": "stdout",
     "output_type": "stream",
     "text": [
      "fudged image shape (129, 17, 3)\n"
     ]
    },
    {
     "data": {
      "application/vnd.jupyter.widget-view+json": {
       "model_id": "67c9e826c1644adbb5bb870a7c08f1e7",
       "version_major": 2,
       "version_minor": 0
      },
      "text/plain": [
       "  0%|          | 0/3500 [00:00<?, ?it/s]"
      ]
     },
     "metadata": {},
     "output_type": "display_data"
    },
    {
     "name": "stdout",
     "output_type": "stream",
     "text": [
      "fudged image shape (129, 17, 3)\n"
     ]
    },
    {
     "data": {
      "application/vnd.jupyter.widget-view+json": {
       "model_id": "695c9c5315b54c5ea641a4e5bc6eb1a5",
       "version_major": 2,
       "version_minor": 0
      },
      "text/plain": [
       "  0%|          | 0/3500 [00:00<?, ?it/s]"
      ]
     },
     "metadata": {},
     "output_type": "display_data"
    },
    {
     "name": "stdout",
     "output_type": "stream",
     "text": [
      "fudged image shape (129, 17, 3)\n"
     ]
    },
    {
     "data": {
      "application/vnd.jupyter.widget-view+json": {
       "model_id": "a3b9530af3ec4786a3b4a8c913d6d465",
       "version_major": 2,
       "version_minor": 0
      },
      "text/plain": [
       "  0%|          | 0/3500 [00:00<?, ?it/s]"
      ]
     },
     "metadata": {},
     "output_type": "display_data"
    },
    {
     "name": "stdout",
     "output_type": "stream",
     "text": [
      "fudged image shape (129, 17, 3)\n"
     ]
    },
    {
     "data": {
      "application/vnd.jupyter.widget-view+json": {
       "model_id": "9ce5f4a0102e401d97dcec7fefe21fa5",
       "version_major": 2,
       "version_minor": 0
      },
      "text/plain": [
       "  0%|          | 0/3500 [00:00<?, ?it/s]"
      ]
     },
     "metadata": {},
     "output_type": "display_data"
    },
    {
     "name": "stdout",
     "output_type": "stream",
     "text": [
      "fudged image shape (129, 17, 3)\n"
     ]
    },
    {
     "data": {
      "application/vnd.jupyter.widget-view+json": {
       "model_id": "e60663b0e3df4df3885e4e748763d6cc",
       "version_major": 2,
       "version_minor": 0
      },
      "text/plain": [
       "  0%|          | 0/3500 [00:00<?, ?it/s]"
      ]
     },
     "metadata": {},
     "output_type": "display_data"
    },
    {
     "name": "stdout",
     "output_type": "stream",
     "text": [
      "fudged image shape (129, 17, 3)\n"
     ]
    },
    {
     "data": {
      "application/vnd.jupyter.widget-view+json": {
       "model_id": "56535695817b47eea927bc1b8b3d85e3",
       "version_major": 2,
       "version_minor": 0
      },
      "text/plain": [
       "  0%|          | 0/3500 [00:00<?, ?it/s]"
      ]
     },
     "metadata": {},
     "output_type": "display_data"
    },
    {
     "name": "stdout",
     "output_type": "stream",
     "text": [
      "fudged image shape (129, 17, 3)\n"
     ]
    },
    {
     "data": {
      "application/vnd.jupyter.widget-view+json": {
       "model_id": "bc49e8b8734f465999d28305d8b862d4",
       "version_major": 2,
       "version_minor": 0
      },
      "text/plain": [
       "  0%|          | 0/3500 [00:00<?, ?it/s]"
      ]
     },
     "metadata": {},
     "output_type": "display_data"
    },
    {
     "name": "stdout",
     "output_type": "stream",
     "text": [
      "fudged image shape (129, 17, 3)\n"
     ]
    },
    {
     "data": {
      "application/vnd.jupyter.widget-view+json": {
       "model_id": "005b4a29c67245a89c4eb1392a2fe09d",
       "version_major": 2,
       "version_minor": 0
      },
      "text/plain": [
       "  0%|          | 0/3500 [00:00<?, ?it/s]"
      ]
     },
     "metadata": {},
     "output_type": "display_data"
    },
    {
     "name": "stdout",
     "output_type": "stream",
     "text": [
      "fudged image shape (129, 17, 3)\n"
     ]
    },
    {
     "data": {
      "application/vnd.jupyter.widget-view+json": {
       "model_id": "33dbd76a0b1540329c5ae666377ef715",
       "version_major": 2,
       "version_minor": 0
      },
      "text/plain": [
       "  0%|          | 0/3500 [00:00<?, ?it/s]"
      ]
     },
     "metadata": {},
     "output_type": "display_data"
    },
    {
     "name": "stdout",
     "output_type": "stream",
     "text": [
      "fudged image shape (129, 17, 3)\n"
     ]
    },
    {
     "data": {
      "application/vnd.jupyter.widget-view+json": {
       "model_id": "e400f30a199c4b5f80c3435db9f52a0b",
       "version_major": 2,
       "version_minor": 0
      },
      "text/plain": [
       "  0%|          | 0/3500 [00:00<?, ?it/s]"
      ]
     },
     "metadata": {},
     "output_type": "display_data"
    },
    {
     "name": "stdout",
     "output_type": "stream",
     "text": [
      "fudged image shape (129, 17, 3)\n"
     ]
    },
    {
     "data": {
      "application/vnd.jupyter.widget-view+json": {
       "model_id": "a5b2da401f9848898dc1c9a7c03f7e78",
       "version_major": 2,
       "version_minor": 0
      },
      "text/plain": [
       "  0%|          | 0/3500 [00:00<?, ?it/s]"
      ]
     },
     "metadata": {},
     "output_type": "display_data"
    },
    {
     "name": "stdout",
     "output_type": "stream",
     "text": [
      "fudged image shape (129, 17, 3)\n"
     ]
    },
    {
     "data": {
      "application/vnd.jupyter.widget-view+json": {
       "model_id": "e023b4d714c24ae5a76c5bf20514f802",
       "version_major": 2,
       "version_minor": 0
      },
      "text/plain": [
       "  0%|          | 0/3500 [00:00<?, ?it/s]"
      ]
     },
     "metadata": {},
     "output_type": "display_data"
    },
    {
     "name": "stdout",
     "output_type": "stream",
     "text": [
      "fudged image shape (129, 17, 3)\n"
     ]
    },
    {
     "data": {
      "application/vnd.jupyter.widget-view+json": {
       "model_id": "7fc2a10e6c8b414096bafb434f4ec0c7",
       "version_major": 2,
       "version_minor": 0
      },
      "text/plain": [
       "  0%|          | 0/3500 [00:00<?, ?it/s]"
      ]
     },
     "metadata": {},
     "output_type": "display_data"
    },
    {
     "name": "stdout",
     "output_type": "stream",
     "text": [
      "fudged image shape (129, 17, 3)\n"
     ]
    },
    {
     "data": {
      "application/vnd.jupyter.widget-view+json": {
       "model_id": "7d7c04b01a504f2e83e1ac43621a1159",
       "version_major": 2,
       "version_minor": 0
      },
      "text/plain": [
       "  0%|          | 0/3500 [00:00<?, ?it/s]"
      ]
     },
     "metadata": {},
     "output_type": "display_data"
    },
    {
     "name": "stdout",
     "output_type": "stream",
     "text": [
      "fudged image shape (129, 17, 3)\n"
     ]
    },
    {
     "data": {
      "application/vnd.jupyter.widget-view+json": {
       "model_id": "22d39bf263d14659b2e34f25a68dd033",
       "version_major": 2,
       "version_minor": 0
      },
      "text/plain": [
       "  0%|          | 0/3500 [00:00<?, ?it/s]"
      ]
     },
     "metadata": {},
     "output_type": "display_data"
    },
    {
     "name": "stdout",
     "output_type": "stream",
     "text": [
      "fudged image shape (129, 17, 3)\n"
     ]
    },
    {
     "data": {
      "application/vnd.jupyter.widget-view+json": {
       "model_id": "7f414b2e495d418bb74e8cba71ecb2f5",
       "version_major": 2,
       "version_minor": 0
      },
      "text/plain": [
       "  0%|          | 0/3500 [00:00<?, ?it/s]"
      ]
     },
     "metadata": {},
     "output_type": "display_data"
    },
    {
     "name": "stdout",
     "output_type": "stream",
     "text": [
      "fudged image shape (129, 17, 3)\n"
     ]
    },
    {
     "data": {
      "application/vnd.jupyter.widget-view+json": {
       "model_id": "b7cd49b4aff34acc82bb9b77c77809df",
       "version_major": 2,
       "version_minor": 0
      },
      "text/plain": [
       "  0%|          | 0/3500 [00:00<?, ?it/s]"
      ]
     },
     "metadata": {},
     "output_type": "display_data"
    },
    {
     "name": "stdout",
     "output_type": "stream",
     "text": [
      "fudged image shape (129, 17, 3)\n"
     ]
    },
    {
     "data": {
      "application/vnd.jupyter.widget-view+json": {
       "model_id": "1c1c590340cd4fa1bc3887e2d8c1efc8",
       "version_major": 2,
       "version_minor": 0
      },
      "text/plain": [
       "  0%|          | 0/3500 [00:00<?, ?it/s]"
      ]
     },
     "metadata": {},
     "output_type": "display_data"
    },
    {
     "name": "stdout",
     "output_type": "stream",
     "text": [
      "fudged image shape (129, 17, 3)\n"
     ]
    },
    {
     "data": {
      "application/vnd.jupyter.widget-view+json": {
       "model_id": "eccc3ea36f63481ca7452b0a0e724f69",
       "version_major": 2,
       "version_minor": 0
      },
      "text/plain": [
       "  0%|          | 0/3500 [00:00<?, ?it/s]"
      ]
     },
     "metadata": {},
     "output_type": "display_data"
    },
    {
     "name": "stdout",
     "output_type": "stream",
     "text": [
      "fudged image shape (129, 17, 3)\n"
     ]
    },
    {
     "data": {
      "application/vnd.jupyter.widget-view+json": {
       "model_id": "e80fb833734d4aedaaf710fafc931b81",
       "version_major": 2,
       "version_minor": 0
      },
      "text/plain": [
       "  0%|          | 0/3500 [00:00<?, ?it/s]"
      ]
     },
     "metadata": {},
     "output_type": "display_data"
    },
    {
     "name": "stdout",
     "output_type": "stream",
     "text": [
      "fudged image shape (129, 17, 3)\n"
     ]
    },
    {
     "data": {
      "application/vnd.jupyter.widget-view+json": {
       "model_id": "fa46f9da4d014410bf05aab2a89791cd",
       "version_major": 2,
       "version_minor": 0
      },
      "text/plain": [
       "  0%|          | 0/3500 [00:00<?, ?it/s]"
      ]
     },
     "metadata": {},
     "output_type": "display_data"
    },
    {
     "name": "stdout",
     "output_type": "stream",
     "text": [
      "fudged image shape (129, 17, 3)\n"
     ]
    },
    {
     "data": {
      "application/vnd.jupyter.widget-view+json": {
       "model_id": "7ee6db0abb4149798bbae2e561de1030",
       "version_major": 2,
       "version_minor": 0
      },
      "text/plain": [
       "  0%|          | 0/3500 [00:00<?, ?it/s]"
      ]
     },
     "metadata": {},
     "output_type": "display_data"
    },
    {
     "name": "stdout",
     "output_type": "stream",
     "text": [
      "fudged image shape (129, 17, 3)\n"
     ]
    },
    {
     "data": {
      "application/vnd.jupyter.widget-view+json": {
       "model_id": "3725f15d0aee42b892e7b8da7c147b18",
       "version_major": 2,
       "version_minor": 0
      },
      "text/plain": [
       "  0%|          | 0/3500 [00:00<?, ?it/s]"
      ]
     },
     "metadata": {},
     "output_type": "display_data"
    },
    {
     "name": "stdout",
     "output_type": "stream",
     "text": [
      "fudged image shape (129, 17, 3)\n"
     ]
    },
    {
     "data": {
      "application/vnd.jupyter.widget-view+json": {
       "model_id": "d6fa97a2e9224bf6be56c881c5cbdde5",
       "version_major": 2,
       "version_minor": 0
      },
      "text/plain": [
       "  0%|          | 0/3500 [00:00<?, ?it/s]"
      ]
     },
     "metadata": {},
     "output_type": "display_data"
    },
    {
     "name": "stdout",
     "output_type": "stream",
     "text": [
      "fudged image shape (129, 17, 3)\n"
     ]
    },
    {
     "data": {
      "application/vnd.jupyter.widget-view+json": {
       "model_id": "b79aa18dc7fe4b32a4b4454fab838aec",
       "version_major": 2,
       "version_minor": 0
      },
      "text/plain": [
       "  0%|          | 0/3500 [00:00<?, ?it/s]"
      ]
     },
     "metadata": {},
     "output_type": "display_data"
    },
    {
     "name": "stdout",
     "output_type": "stream",
     "text": [
      "fudged image shape (129, 17, 3)\n"
     ]
    },
    {
     "data": {
      "application/vnd.jupyter.widget-view+json": {
       "model_id": "0a049e02d2de44de960970d6f35e7774",
       "version_major": 2,
       "version_minor": 0
      },
      "text/plain": [
       "  0%|          | 0/3500 [00:00<?, ?it/s]"
      ]
     },
     "metadata": {},
     "output_type": "display_data"
    },
    {
     "name": "stdout",
     "output_type": "stream",
     "text": [
      "fudged image shape (129, 17, 3)\n"
     ]
    },
    {
     "data": {
      "application/vnd.jupyter.widget-view+json": {
       "model_id": "70921ceac36d424e80c8db653844653f",
       "version_major": 2,
       "version_minor": 0
      },
      "text/plain": [
       "  0%|          | 0/3500 [00:00<?, ?it/s]"
      ]
     },
     "metadata": {},
     "output_type": "display_data"
    },
    {
     "name": "stdout",
     "output_type": "stream",
     "text": [
      "fudged image shape (129, 17, 3)\n"
     ]
    },
    {
     "data": {
      "application/vnd.jupyter.widget-view+json": {
       "model_id": "6cc577037f3445819aa5d6fe93598539",
       "version_major": 2,
       "version_minor": 0
      },
      "text/plain": [
       "  0%|          | 0/3500 [00:00<?, ?it/s]"
      ]
     },
     "metadata": {},
     "output_type": "display_data"
    },
    {
     "name": "stdout",
     "output_type": "stream",
     "text": [
      "fudged image shape (129, 17, 3)\n"
     ]
    },
    {
     "data": {
      "application/vnd.jupyter.widget-view+json": {
       "model_id": "69281feeb264430897ec405bc8f35630",
       "version_major": 2,
       "version_minor": 0
      },
      "text/plain": [
       "  0%|          | 0/3500 [00:00<?, ?it/s]"
      ]
     },
     "metadata": {},
     "output_type": "display_data"
    },
    {
     "name": "stdout",
     "output_type": "stream",
     "text": [
      "fudged image shape (129, 17, 3)\n"
     ]
    },
    {
     "data": {
      "application/vnd.jupyter.widget-view+json": {
       "model_id": "646ca09f878b4e69a04aae0177c091c2",
       "version_major": 2,
       "version_minor": 0
      },
      "text/plain": [
       "  0%|          | 0/3500 [00:00<?, ?it/s]"
      ]
     },
     "metadata": {},
     "output_type": "display_data"
    },
    {
     "name": "stdout",
     "output_type": "stream",
     "text": [
      "fudged image shape (129, 17, 3)\n"
     ]
    },
    {
     "data": {
      "application/vnd.jupyter.widget-view+json": {
       "model_id": "79f289e76dc14bb0996f577af549f92c",
       "version_major": 2,
       "version_minor": 0
      },
      "text/plain": [
       "  0%|          | 0/3500 [00:00<?, ?it/s]"
      ]
     },
     "metadata": {},
     "output_type": "display_data"
    },
    {
     "name": "stdout",
     "output_type": "stream",
     "text": [
      "fudged image shape (129, 17, 3)\n"
     ]
    },
    {
     "data": {
      "application/vnd.jupyter.widget-view+json": {
       "model_id": "086a1306ae3d4223b843980b30c0dacb",
       "version_major": 2,
       "version_minor": 0
      },
      "text/plain": [
       "  0%|          | 0/3500 [00:00<?, ?it/s]"
      ]
     },
     "metadata": {},
     "output_type": "display_data"
    },
    {
     "name": "stdout",
     "output_type": "stream",
     "text": [
      "fudged image shape (129, 17, 3)\n"
     ]
    },
    {
     "data": {
      "application/vnd.jupyter.widget-view+json": {
       "model_id": "283e3475876944dbb4e1938f0190f50e",
       "version_major": 2,
       "version_minor": 0
      },
      "text/plain": [
       "  0%|          | 0/3500 [00:00<?, ?it/s]"
      ]
     },
     "metadata": {},
     "output_type": "display_data"
    },
    {
     "name": "stdout",
     "output_type": "stream",
     "text": [
      "fudged image shape (129, 17, 3)\n"
     ]
    },
    {
     "data": {
      "application/vnd.jupyter.widget-view+json": {
       "model_id": "000e783db6be489fbd7be9af902bbaf3",
       "version_major": 2,
       "version_minor": 0
      },
      "text/plain": [
       "  0%|          | 0/3500 [00:00<?, ?it/s]"
      ]
     },
     "metadata": {},
     "output_type": "display_data"
    },
    {
     "name": "stdout",
     "output_type": "stream",
     "text": [
      "fudged image shape (129, 17, 3)\n"
     ]
    },
    {
     "data": {
      "application/vnd.jupyter.widget-view+json": {
       "model_id": "58b3136586004d47abe6afd385463916",
       "version_major": 2,
       "version_minor": 0
      },
      "text/plain": [
       "  0%|          | 0/3500 [00:00<?, ?it/s]"
      ]
     },
     "metadata": {},
     "output_type": "display_data"
    },
    {
     "name": "stdout",
     "output_type": "stream",
     "text": [
      "fudged image shape (129, 17, 3)\n"
     ]
    },
    {
     "data": {
      "application/vnd.jupyter.widget-view+json": {
       "model_id": "05f1b6e1fa294762b92bc6401c637d3c",
       "version_major": 2,
       "version_minor": 0
      },
      "text/plain": [
       "  0%|          | 0/3500 [00:00<?, ?it/s]"
      ]
     },
     "metadata": {},
     "output_type": "display_data"
    },
    {
     "name": "stdout",
     "output_type": "stream",
     "text": [
      "fudged image shape (129, 17, 3)\n"
     ]
    },
    {
     "data": {
      "application/vnd.jupyter.widget-view+json": {
       "model_id": "ec23d359e47b476db8cc4ed6e9be73af",
       "version_major": 2,
       "version_minor": 0
      },
      "text/plain": [
       "  0%|          | 0/3500 [00:00<?, ?it/s]"
      ]
     },
     "metadata": {},
     "output_type": "display_data"
    },
    {
     "name": "stdout",
     "output_type": "stream",
     "text": [
      "fudged image shape (129, 17, 3)\n"
     ]
    },
    {
     "data": {
      "application/vnd.jupyter.widget-view+json": {
       "model_id": "dce395ce7f3b4e3bb2c4227c4e4ecd3e",
       "version_major": 2,
       "version_minor": 0
      },
      "text/plain": [
       "  0%|          | 0/3500 [00:00<?, ?it/s]"
      ]
     },
     "metadata": {},
     "output_type": "display_data"
    },
    {
     "name": "stdout",
     "output_type": "stream",
     "text": [
      "fudged image shape (129, 17, 3)\n"
     ]
    },
    {
     "data": {
      "application/vnd.jupyter.widget-view+json": {
       "model_id": "5fe4010e9a744e5abe3ce86af720b15a",
       "version_major": 2,
       "version_minor": 0
      },
      "text/plain": [
       "  0%|          | 0/3500 [00:00<?, ?it/s]"
      ]
     },
     "metadata": {},
     "output_type": "display_data"
    },
    {
     "name": "stdout",
     "output_type": "stream",
     "text": [
      "fudged image shape (129, 17, 3)\n"
     ]
    },
    {
     "data": {
      "application/vnd.jupyter.widget-view+json": {
       "model_id": "7851fed9f1954f7e87cd2bf88da2831a",
       "version_major": 2,
       "version_minor": 0
      },
      "text/plain": [
       "  0%|          | 0/3500 [00:00<?, ?it/s]"
      ]
     },
     "metadata": {},
     "output_type": "display_data"
    },
    {
     "name": "stdout",
     "output_type": "stream",
     "text": [
      "fudged image shape (129, 17, 3)\n"
     ]
    },
    {
     "data": {
      "application/vnd.jupyter.widget-view+json": {
       "model_id": "22af6f9f2c804201a9ec8418d2658f8a",
       "version_major": 2,
       "version_minor": 0
      },
      "text/plain": [
       "  0%|          | 0/3500 [00:00<?, ?it/s]"
      ]
     },
     "metadata": {},
     "output_type": "display_data"
    },
    {
     "name": "stdout",
     "output_type": "stream",
     "text": [
      "fudged image shape (129, 17, 3)\n"
     ]
    },
    {
     "data": {
      "application/vnd.jupyter.widget-view+json": {
       "model_id": "cac462bad12b477d8586e0a55d525090",
       "version_major": 2,
       "version_minor": 0
      },
      "text/plain": [
       "  0%|          | 0/3500 [00:00<?, ?it/s]"
      ]
     },
     "metadata": {},
     "output_type": "display_data"
    },
    {
     "name": "stdout",
     "output_type": "stream",
     "text": [
      "fudged image shape (129, 17, 3)\n"
     ]
    },
    {
     "data": {
      "application/vnd.jupyter.widget-view+json": {
       "model_id": "c9ed2b6c810d4925b3da2791ad1ed828",
       "version_major": 2,
       "version_minor": 0
      },
      "text/plain": [
       "  0%|          | 0/3500 [00:00<?, ?it/s]"
      ]
     },
     "metadata": {},
     "output_type": "display_data"
    },
    {
     "name": "stdout",
     "output_type": "stream",
     "text": [
      "fudged image shape (129, 17, 3)\n"
     ]
    },
    {
     "data": {
      "application/vnd.jupyter.widget-view+json": {
       "model_id": "3862799bb2bf4d948611a31ef7fea4f3",
       "version_major": 2,
       "version_minor": 0
      },
      "text/plain": [
       "  0%|          | 0/3500 [00:00<?, ?it/s]"
      ]
     },
     "metadata": {},
     "output_type": "display_data"
    },
    {
     "name": "stdout",
     "output_type": "stream",
     "text": [
      "fudged image shape (129, 17, 3)\n"
     ]
    },
    {
     "data": {
      "application/vnd.jupyter.widget-view+json": {
       "model_id": "a284451ef22b4f568d7f97c9c317f67a",
       "version_major": 2,
       "version_minor": 0
      },
      "text/plain": [
       "  0%|          | 0/3500 [00:00<?, ?it/s]"
      ]
     },
     "metadata": {},
     "output_type": "display_data"
    },
    {
     "name": "stdout",
     "output_type": "stream",
     "text": [
      "fudged image shape (129, 17, 3)\n"
     ]
    },
    {
     "data": {
      "application/vnd.jupyter.widget-view+json": {
       "model_id": "2eb6ebbb1d864c14b2d762f3c1b5b797",
       "version_major": 2,
       "version_minor": 0
      },
      "text/plain": [
       "  0%|          | 0/3500 [00:00<?, ?it/s]"
      ]
     },
     "metadata": {},
     "output_type": "display_data"
    },
    {
     "name": "stdout",
     "output_type": "stream",
     "text": [
      "fudged image shape (129, 17, 3)\n"
     ]
    },
    {
     "data": {
      "application/vnd.jupyter.widget-view+json": {
       "model_id": "7678c3a1c446472183535159ac232f56",
       "version_major": 2,
       "version_minor": 0
      },
      "text/plain": [
       "  0%|          | 0/3500 [00:00<?, ?it/s]"
      ]
     },
     "metadata": {},
     "output_type": "display_data"
    },
    {
     "name": "stdout",
     "output_type": "stream",
     "text": [
      "fudged image shape (129, 17, 3)\n"
     ]
    },
    {
     "data": {
      "application/vnd.jupyter.widget-view+json": {
       "model_id": "0ac4621d4cb34b7298515da7c3bf47db",
       "version_major": 2,
       "version_minor": 0
      },
      "text/plain": [
       "  0%|          | 0/3500 [00:00<?, ?it/s]"
      ]
     },
     "metadata": {},
     "output_type": "display_data"
    },
    {
     "name": "stdout",
     "output_type": "stream",
     "text": [
      "fudged image shape (129, 17, 3)\n"
     ]
    },
    {
     "data": {
      "application/vnd.jupyter.widget-view+json": {
       "model_id": "3c0542bf992e48ca8e4ce0872766f97c",
       "version_major": 2,
       "version_minor": 0
      },
      "text/plain": [
       "  0%|          | 0/3500 [00:00<?, ?it/s]"
      ]
     },
     "metadata": {},
     "output_type": "display_data"
    },
    {
     "name": "stdout",
     "output_type": "stream",
     "text": [
      "fudged image shape (129, 17, 3)\n"
     ]
    },
    {
     "data": {
      "application/vnd.jupyter.widget-view+json": {
       "model_id": "3d8315db94284a2f895f878c6c3b2bcd",
       "version_major": 2,
       "version_minor": 0
      },
      "text/plain": [
       "  0%|          | 0/3500 [00:00<?, ?it/s]"
      ]
     },
     "metadata": {},
     "output_type": "display_data"
    },
    {
     "name": "stdout",
     "output_type": "stream",
     "text": [
      "fudged image shape (129, 17, 3)\n"
     ]
    },
    {
     "data": {
      "application/vnd.jupyter.widget-view+json": {
       "model_id": "a939983cd34144e1b3e2b055c9040717",
       "version_major": 2,
       "version_minor": 0
      },
      "text/plain": [
       "  0%|          | 0/3500 [00:00<?, ?it/s]"
      ]
     },
     "metadata": {},
     "output_type": "display_data"
    },
    {
     "name": "stdout",
     "output_type": "stream",
     "text": [
      "fudged image shape (129, 17, 3)\n"
     ]
    },
    {
     "data": {
      "application/vnd.jupyter.widget-view+json": {
       "model_id": "97f079469ede46cd8f298122d8c355bb",
       "version_major": 2,
       "version_minor": 0
      },
      "text/plain": [
       "  0%|          | 0/3500 [00:00<?, ?it/s]"
      ]
     },
     "metadata": {},
     "output_type": "display_data"
    },
    {
     "name": "stdout",
     "output_type": "stream",
     "text": [
      "fudged image shape (129, 17, 3)\n"
     ]
    },
    {
     "data": {
      "application/vnd.jupyter.widget-view+json": {
       "model_id": "3abc24640e93411e8fe092ea3569e52a",
       "version_major": 2,
       "version_minor": 0
      },
      "text/plain": [
       "  0%|          | 0/3500 [00:00<?, ?it/s]"
      ]
     },
     "metadata": {},
     "output_type": "display_data"
    },
    {
     "name": "stdout",
     "output_type": "stream",
     "text": [
      "fudged image shape (129, 17, 3)\n"
     ]
    },
    {
     "data": {
      "application/vnd.jupyter.widget-view+json": {
       "model_id": "0acfd979d4d949c0baccbed22d0defaf",
       "version_major": 2,
       "version_minor": 0
      },
      "text/plain": [
       "  0%|          | 0/3500 [00:00<?, ?it/s]"
      ]
     },
     "metadata": {},
     "output_type": "display_data"
    },
    {
     "name": "stdout",
     "output_type": "stream",
     "text": [
      "fudged image shape (129, 17, 3)\n"
     ]
    },
    {
     "data": {
      "application/vnd.jupyter.widget-view+json": {
       "model_id": "d2b74d062ac14f57ac85571ce9ebf723",
       "version_major": 2,
       "version_minor": 0
      },
      "text/plain": [
       "  0%|          | 0/3500 [00:00<?, ?it/s]"
      ]
     },
     "metadata": {},
     "output_type": "display_data"
    },
    {
     "name": "stdout",
     "output_type": "stream",
     "text": [
      "fudged image shape (129, 17, 3)\n"
     ]
    },
    {
     "data": {
      "application/vnd.jupyter.widget-view+json": {
       "model_id": "12bc1a5d96534e4faa20f87958f06d9e",
       "version_major": 2,
       "version_minor": 0
      },
      "text/plain": [
       "  0%|          | 0/3500 [00:00<?, ?it/s]"
      ]
     },
     "metadata": {},
     "output_type": "display_data"
    },
    {
     "name": "stdout",
     "output_type": "stream",
     "text": [
      "fudged image shape (129, 17, 3)\n"
     ]
    },
    {
     "data": {
      "application/vnd.jupyter.widget-view+json": {
       "model_id": "b7ec4e9ab04744df83cc84fa9f51c26e",
       "version_major": 2,
       "version_minor": 0
      },
      "text/plain": [
       "  0%|          | 0/3500 [00:00<?, ?it/s]"
      ]
     },
     "metadata": {},
     "output_type": "display_data"
    },
    {
     "name": "stdout",
     "output_type": "stream",
     "text": [
      "fudged image shape (129, 17, 3)\n"
     ]
    },
    {
     "data": {
      "application/vnd.jupyter.widget-view+json": {
       "model_id": "01a3ef47c1bd4ae689ec8a48c7db28c6",
       "version_major": 2,
       "version_minor": 0
      },
      "text/plain": [
       "  0%|          | 0/3500 [00:00<?, ?it/s]"
      ]
     },
     "metadata": {},
     "output_type": "display_data"
    },
    {
     "name": "stdout",
     "output_type": "stream",
     "text": [
      "fudged image shape (129, 17, 3)\n"
     ]
    },
    {
     "data": {
      "application/vnd.jupyter.widget-view+json": {
       "model_id": "4973a0d2583d4d64bbb8898738cd6685",
       "version_major": 2,
       "version_minor": 0
      },
      "text/plain": [
       "  0%|          | 0/3500 [00:00<?, ?it/s]"
      ]
     },
     "metadata": {},
     "output_type": "display_data"
    },
    {
     "name": "stdout",
     "output_type": "stream",
     "text": [
      "fudged image shape (129, 17, 3)\n"
     ]
    },
    {
     "data": {
      "application/vnd.jupyter.widget-view+json": {
       "model_id": "7aef4ba88d4541f6b6b144e12495feaf",
       "version_major": 2,
       "version_minor": 0
      },
      "text/plain": [
       "  0%|          | 0/3500 [00:00<?, ?it/s]"
      ]
     },
     "metadata": {},
     "output_type": "display_data"
    },
    {
     "name": "stdout",
     "output_type": "stream",
     "text": [
      "fudged image shape (129, 17, 3)\n"
     ]
    },
    {
     "data": {
      "application/vnd.jupyter.widget-view+json": {
       "model_id": "0d2606ddaa65472d9124de0fa83251ed",
       "version_major": 2,
       "version_minor": 0
      },
      "text/plain": [
       "  0%|          | 0/3500 [00:00<?, ?it/s]"
      ]
     },
     "metadata": {},
     "output_type": "display_data"
    },
    {
     "name": "stdout",
     "output_type": "stream",
     "text": [
      "fudged image shape (129, 17, 3)\n"
     ]
    },
    {
     "data": {
      "application/vnd.jupyter.widget-view+json": {
       "model_id": "1d3548d3aded4dfcbb7b2eb91d081d4c",
       "version_major": 2,
       "version_minor": 0
      },
      "text/plain": [
       "  0%|          | 0/3500 [00:00<?, ?it/s]"
      ]
     },
     "metadata": {},
     "output_type": "display_data"
    },
    {
     "name": "stdout",
     "output_type": "stream",
     "text": [
      "fudged image shape (129, 17, 3)\n"
     ]
    },
    {
     "data": {
      "application/vnd.jupyter.widget-view+json": {
       "model_id": "503ea8c98a94477db39bb3aab4097ab0",
       "version_major": 2,
       "version_minor": 0
      },
      "text/plain": [
       "  0%|          | 0/3500 [00:00<?, ?it/s]"
      ]
     },
     "metadata": {},
     "output_type": "display_data"
    },
    {
     "name": "stdout",
     "output_type": "stream",
     "text": [
      "fudged image shape (129, 17, 3)\n"
     ]
    },
    {
     "data": {
      "application/vnd.jupyter.widget-view+json": {
       "model_id": "edcd7f05111e4b29a538271a4741928f",
       "version_major": 2,
       "version_minor": 0
      },
      "text/plain": [
       "  0%|          | 0/3500 [00:00<?, ?it/s]"
      ]
     },
     "metadata": {},
     "output_type": "display_data"
    },
    {
     "name": "stdout",
     "output_type": "stream",
     "text": [
      "fudged image shape (129, 17, 3)\n"
     ]
    },
    {
     "data": {
      "application/vnd.jupyter.widget-view+json": {
       "model_id": "36059d61482b4c7b8d9beaf37dfac51f",
       "version_major": 2,
       "version_minor": 0
      },
      "text/plain": [
       "  0%|          | 0/3500 [00:00<?, ?it/s]"
      ]
     },
     "metadata": {},
     "output_type": "display_data"
    },
    {
     "name": "stdout",
     "output_type": "stream",
     "text": [
      "fudged image shape (129, 17, 3)\n"
     ]
    },
    {
     "data": {
      "application/vnd.jupyter.widget-view+json": {
       "model_id": "d0f75408af4847b4a1b8ed2c99ac604b",
       "version_major": 2,
       "version_minor": 0
      },
      "text/plain": [
       "  0%|          | 0/3500 [00:00<?, ?it/s]"
      ]
     },
     "metadata": {},
     "output_type": "display_data"
    },
    {
     "name": "stdout",
     "output_type": "stream",
     "text": [
      "fudged image shape (129, 17, 3)\n"
     ]
    },
    {
     "data": {
      "application/vnd.jupyter.widget-view+json": {
       "model_id": "cf298419e9ab40adb6ec7284b3ded680",
       "version_major": 2,
       "version_minor": 0
      },
      "text/plain": [
       "  0%|          | 0/3500 [00:00<?, ?it/s]"
      ]
     },
     "metadata": {},
     "output_type": "display_data"
    },
    {
     "name": "stdout",
     "output_type": "stream",
     "text": [
      "fudged image shape (129, 17, 3)\n"
     ]
    },
    {
     "data": {
      "application/vnd.jupyter.widget-view+json": {
       "model_id": "8af966de2c5f4bf1ade74a511b17857c",
       "version_major": 2,
       "version_minor": 0
      },
      "text/plain": [
       "  0%|          | 0/3500 [00:00<?, ?it/s]"
      ]
     },
     "metadata": {},
     "output_type": "display_data"
    },
    {
     "name": "stdout",
     "output_type": "stream",
     "text": [
      "fudged image shape (129, 17, 3)\n"
     ]
    },
    {
     "data": {
      "application/vnd.jupyter.widget-view+json": {
       "model_id": "93e8cdba6d0043578d8c24d06a6918ad",
       "version_major": 2,
       "version_minor": 0
      },
      "text/plain": [
       "  0%|          | 0/3500 [00:00<?, ?it/s]"
      ]
     },
     "metadata": {},
     "output_type": "display_data"
    },
    {
     "name": "stdout",
     "output_type": "stream",
     "text": [
      "fudged image shape (129, 17, 3)\n"
     ]
    },
    {
     "data": {
      "application/vnd.jupyter.widget-view+json": {
       "model_id": "1af3fe9b12a743a2872ef97e42f854bc",
       "version_major": 2,
       "version_minor": 0
      },
      "text/plain": [
       "  0%|          | 0/3500 [00:00<?, ?it/s]"
      ]
     },
     "metadata": {},
     "output_type": "display_data"
    },
    {
     "name": "stdout",
     "output_type": "stream",
     "text": [
      "fudged image shape (129, 17, 3)\n"
     ]
    },
    {
     "data": {
      "application/vnd.jupyter.widget-view+json": {
       "model_id": "0a6325192b7c4a53813a851ca6099082",
       "version_major": 2,
       "version_minor": 0
      },
      "text/plain": [
       "  0%|          | 0/3500 [00:00<?, ?it/s]"
      ]
     },
     "metadata": {},
     "output_type": "display_data"
    },
    {
     "name": "stdout",
     "output_type": "stream",
     "text": [
      "fudged image shape (129, 17, 3)\n"
     ]
    },
    {
     "data": {
      "application/vnd.jupyter.widget-view+json": {
       "model_id": "6a9969c440134453a23cf7597c8d2488",
       "version_major": 2,
       "version_minor": 0
      },
      "text/plain": [
       "  0%|          | 0/3500 [00:00<?, ?it/s]"
      ]
     },
     "metadata": {},
     "output_type": "display_data"
    },
    {
     "name": "stdout",
     "output_type": "stream",
     "text": [
      "fudged image shape (129, 17, 3)\n"
     ]
    },
    {
     "data": {
      "application/vnd.jupyter.widget-view+json": {
       "model_id": "2b1525cac8cb49eaa925ac577afb7448",
       "version_major": 2,
       "version_minor": 0
      },
      "text/plain": [
       "  0%|          | 0/3500 [00:00<?, ?it/s]"
      ]
     },
     "metadata": {},
     "output_type": "display_data"
    },
    {
     "name": "stdout",
     "output_type": "stream",
     "text": [
      "fudged image shape (129, 17, 3)\n"
     ]
    },
    {
     "data": {
      "application/vnd.jupyter.widget-view+json": {
       "model_id": "3187a1b000e54755bcf866f5873479a0",
       "version_major": 2,
       "version_minor": 0
      },
      "text/plain": [
       "  0%|          | 0/3500 [00:00<?, ?it/s]"
      ]
     },
     "metadata": {},
     "output_type": "display_data"
    },
    {
     "name": "stdout",
     "output_type": "stream",
     "text": [
      "fudged image shape (129, 17, 3)\n"
     ]
    },
    {
     "data": {
      "application/vnd.jupyter.widget-view+json": {
       "model_id": "3e822d9422c849e5820c84da9e5080de",
       "version_major": 2,
       "version_minor": 0
      },
      "text/plain": [
       "  0%|          | 0/3500 [00:00<?, ?it/s]"
      ]
     },
     "metadata": {},
     "output_type": "display_data"
    },
    {
     "name": "stdout",
     "output_type": "stream",
     "text": [
      "fudged image shape (129, 17, 3)\n"
     ]
    },
    {
     "data": {
      "application/vnd.jupyter.widget-view+json": {
       "model_id": "ec2e11e332b2445396eed0012e3e26a5",
       "version_major": 2,
       "version_minor": 0
      },
      "text/plain": [
       "  0%|          | 0/3500 [00:00<?, ?it/s]"
      ]
     },
     "metadata": {},
     "output_type": "display_data"
    },
    {
     "name": "stdout",
     "output_type": "stream",
     "text": [
      "fudged image shape (129, 17, 3)\n"
     ]
    },
    {
     "data": {
      "application/vnd.jupyter.widget-view+json": {
       "model_id": "c1d5341a9b894f49aa1b25486e4f1aa0",
       "version_major": 2,
       "version_minor": 0
      },
      "text/plain": [
       "  0%|          | 0/3500 [00:00<?, ?it/s]"
      ]
     },
     "metadata": {},
     "output_type": "display_data"
    },
    {
     "name": "stdout",
     "output_type": "stream",
     "text": [
      "fudged image shape (129, 17, 3)\n"
     ]
    },
    {
     "data": {
      "application/vnd.jupyter.widget-view+json": {
       "model_id": "6e6e44338cd141149bafaa28e650639e",
       "version_major": 2,
       "version_minor": 0
      },
      "text/plain": [
       "  0%|          | 0/3500 [00:00<?, ?it/s]"
      ]
     },
     "metadata": {},
     "output_type": "display_data"
    },
    {
     "name": "stdout",
     "output_type": "stream",
     "text": [
      "fudged image shape (129, 17, 3)\n"
     ]
    },
    {
     "data": {
      "application/vnd.jupyter.widget-view+json": {
       "model_id": "167b26f5c57d45318071286e0e6a5269",
       "version_major": 2,
       "version_minor": 0
      },
      "text/plain": [
       "  0%|          | 0/3500 [00:00<?, ?it/s]"
      ]
     },
     "metadata": {},
     "output_type": "display_data"
    },
    {
     "name": "stdout",
     "output_type": "stream",
     "text": [
      "fudged image shape (129, 17, 3)\n"
     ]
    },
    {
     "data": {
      "application/vnd.jupyter.widget-view+json": {
       "model_id": "0bdd9ec47ed744af80466006509b355d",
       "version_major": 2,
       "version_minor": 0
      },
      "text/plain": [
       "  0%|          | 0/3500 [00:00<?, ?it/s]"
      ]
     },
     "metadata": {},
     "output_type": "display_data"
    },
    {
     "name": "stdout",
     "output_type": "stream",
     "text": [
      "fudged image shape (129, 17, 3)\n"
     ]
    },
    {
     "data": {
      "application/vnd.jupyter.widget-view+json": {
       "model_id": "687926dc41bf4d73a8f238e64cc1e9c4",
       "version_major": 2,
       "version_minor": 0
      },
      "text/plain": [
       "  0%|          | 0/3500 [00:00<?, ?it/s]"
      ]
     },
     "metadata": {},
     "output_type": "display_data"
    },
    {
     "name": "stdout",
     "output_type": "stream",
     "text": [
      "fudged image shape (129, 17, 3)\n"
     ]
    },
    {
     "data": {
      "application/vnd.jupyter.widget-view+json": {
       "model_id": "5d1130ad59a6423ca0554a7c1a787472",
       "version_major": 2,
       "version_minor": 0
      },
      "text/plain": [
       "  0%|          | 0/3500 [00:00<?, ?it/s]"
      ]
     },
     "metadata": {},
     "output_type": "display_data"
    },
    {
     "name": "stdout",
     "output_type": "stream",
     "text": [
      "fudged image shape (129, 17, 3)\n"
     ]
    },
    {
     "data": {
      "application/vnd.jupyter.widget-view+json": {
       "model_id": "2efcbe1790264110b7142d4955c4e4fe",
       "version_major": 2,
       "version_minor": 0
      },
      "text/plain": [
       "  0%|          | 0/3500 [00:00<?, ?it/s]"
      ]
     },
     "metadata": {},
     "output_type": "display_data"
    },
    {
     "name": "stdout",
     "output_type": "stream",
     "text": [
      "fudged image shape (129, 17, 3)\n"
     ]
    },
    {
     "data": {
      "application/vnd.jupyter.widget-view+json": {
       "model_id": "b9353a67996d40168a2da1bebb87c492",
       "version_major": 2,
       "version_minor": 0
      },
      "text/plain": [
       "  0%|          | 0/3500 [00:00<?, ?it/s]"
      ]
     },
     "metadata": {},
     "output_type": "display_data"
    },
    {
     "name": "stdout",
     "output_type": "stream",
     "text": [
      "fudged image shape (129, 17, 3)\n"
     ]
    },
    {
     "data": {
      "application/vnd.jupyter.widget-view+json": {
       "model_id": "3e76439a73bc4a79a4f9042a698d2ac9",
       "version_major": 2,
       "version_minor": 0
      },
      "text/plain": [
       "  0%|          | 0/3500 [00:00<?, ?it/s]"
      ]
     },
     "metadata": {},
     "output_type": "display_data"
    },
    {
     "name": "stdout",
     "output_type": "stream",
     "text": [
      "fudged image shape (129, 17, 3)\n"
     ]
    },
    {
     "data": {
      "application/vnd.jupyter.widget-view+json": {
       "model_id": "5c7e5650bf9746cc9dfa1e03306dcd19",
       "version_major": 2,
       "version_minor": 0
      },
      "text/plain": [
       "  0%|          | 0/3500 [00:00<?, ?it/s]"
      ]
     },
     "metadata": {},
     "output_type": "display_data"
    },
    {
     "name": "stdout",
     "output_type": "stream",
     "text": [
      "fudged image shape (129, 17, 3)\n"
     ]
    },
    {
     "data": {
      "application/vnd.jupyter.widget-view+json": {
       "model_id": "ea90e9d4096042048d684210822ec651",
       "version_major": 2,
       "version_minor": 0
      },
      "text/plain": [
       "  0%|          | 0/3500 [00:00<?, ?it/s]"
      ]
     },
     "metadata": {},
     "output_type": "display_data"
    },
    {
     "name": "stdout",
     "output_type": "stream",
     "text": [
      "fudged image shape (129, 17, 3)\n"
     ]
    },
    {
     "data": {
      "application/vnd.jupyter.widget-view+json": {
       "model_id": "40a2bb169743440088971bb002281bec",
       "version_major": 2,
       "version_minor": 0
      },
      "text/plain": [
       "  0%|          | 0/3500 [00:00<?, ?it/s]"
      ]
     },
     "metadata": {},
     "output_type": "display_data"
    },
    {
     "name": "stdout",
     "output_type": "stream",
     "text": [
      "fudged image shape (129, 17, 3)\n"
     ]
    },
    {
     "data": {
      "application/vnd.jupyter.widget-view+json": {
       "model_id": "91b637a5bb5342f38f1dea4c3b2fbbee",
       "version_major": 2,
       "version_minor": 0
      },
      "text/plain": [
       "  0%|          | 0/3500 [00:00<?, ?it/s]"
      ]
     },
     "metadata": {},
     "output_type": "display_data"
    }
   ],
   "source": [
    "score = []\n",
    "f_name1 = save_f+'/detailed_lime/numseg'+str(k_size)+'_nums'+str(num_s)+'/local results'\n",
    "if not os.path.exists(f_name1):\n",
    "    os.makedirs(f_name1)\n",
    "from skimage.color import rgb2gray\n",
    "\n",
    "def predict_fn(images):\n",
    "    # Convert images to grayscale\n",
    "    grayscale_images = [rgb2gray(image) for image in images]\n",
    "    # Resize the images\n",
    "    grayscale_images = np.array([resize(image, (129, 17)) for image in grayscale_images])\n",
    "    # Maybe add an extra dimension if your model expects a channel dimension\n",
    "    #grayscale_images = np.expand_dims(grayscale_images, axis=-1)\n",
    "    # Model prediction\n",
    "    predictions = model.predict(grayscale_images)\n",
    "    return np.hstack((1-predictions, predictions))\n",
    "\n",
    "for sample_ind in range(len(correct_X_ind)):\n",
    "# for sample_ind in range(0,1):\n",
    "\n",
    "    # Explain a single sample\n",
    "    sample = LX[sample_ind, :, :].astype('double')\n",
    "    #print(sample.shape)\n",
    "    y_samp = LY[sample_ind]       \n",
    "    explanation = exp.explain_instance(sample, predict_fn, top_labels=n_class, hide_color = 0, num_samples=num_s, k_size = k_size, stack = stack) \n",
    "    score.append(explanation.score)\n",
    "  \n",
    "    # only study the good quality explanations\n",
    "    if explanation.score >= 0.75 and explanation.score <= 1:\n",
    "\n",
    "        # save weights and lime ratios\n",
    "        weightRatio = []\n",
    "        for i, e in explanation.local_exp[explanation.top_labels[0]]:\n",
    "            weightRatio.append((i, e, explanation.local_pred, explanation.intercept, explanation.top_labels[0]))\n",
    "  \n",
    "        WR = pd.DataFrame(weightRatio)\n",
    "        WR.to_csv(f_name1+'/'+str(sample_ind)+'_weightRatioPred_score'+str(round(explanation.score,2))+'_numseg'+str(len(explanation.local_exp[explanation.top_labels[0]]))+'.csv', index = False)\n",
    "        \n",
    "score = np.array(score)\n",
    "np.save(save_f+'/detailed_lime/numseg'+str(k_size)+'_nums'+str(num_s)+'/score.npy',score)\n",
    "\n",
    "\n"
   ]
  },
  {
   "cell_type": "code",
   "execution_count": null,
   "id": "805fd817",
   "metadata": {},
   "outputs": [],
   "source": []
  },
  {
   "cell_type": "code",
   "execution_count": 28,
   "id": "a16e7b06",
   "metadata": {},
   "outputs": [
    {
     "data": {
      "text/plain": [
       "0"
      ]
     },
     "execution_count": 28,
     "metadata": {},
     "output_type": "execute_result"
    }
   ],
   "source": [
    "int(2/2193)"
   ]
  },
  {
   "cell_type": "code",
   "execution_count": null,
   "id": "0bd594ce",
   "metadata": {},
   "outputs": [],
   "source": []
  },
  {
   "cell_type": "code",
   "execution_count": 100,
   "id": "45705fc3",
   "metadata": {},
   "outputs": [],
   "source": [
    "import numpy as np\n",
    "from lime import lime_image\n",
    "from skimage.transform import resize\n"
   ]
  },
  {
   "cell_type": "code",
   "execution_count": 107,
   "id": "8191c3c2",
   "metadata": {},
   "outputs": [],
   "source": [
    "from skimage.color import rgb2gray\n",
    "\n",
    "def predict_fn(images):\n",
    "    # Convert images to grayscale\n",
    "    grayscale_images = [rgb2gray(image) for image in images]\n",
    "    # Resize the images\n",
    "    grayscale_images = np.array([resize(image, (129, 17)) for image in grayscale_images])\n",
    "    # Maybe add an extra dimension if your model expects a channel dimension\n",
    "    #grayscale_images = np.expand_dims(grayscale_images, axis=-1)\n",
    "    # Model prediction\n",
    "    predictions = model.predict(grayscale_images)\n",
    "    return np.hstack((1-predictions, predictions))\n",
    "\n"
   ]
  },
  {
   "cell_type": "code",
   "execution_count": 108,
   "id": "e60f696c",
   "metadata": {},
   "outputs": [],
   "source": [
    "explainer = lime_image.LimeImageExplainer()\n"
   ]
  },
  {
   "cell_type": "code",
   "execution_count": 113,
   "id": "583ebaa2",
   "metadata": {},
   "outputs": [
    {
     "data": {
      "application/vnd.jupyter.widget-view+json": {
       "model_id": "9f4587aceac4404086d28dabfde935bf",
       "version_major": 2,
       "version_minor": 0
      },
      "text/plain": [
       "  0%|          | 0/1000 [00:00<?, ?it/s]"
      ]
     },
     "metadata": {},
     "output_type": "display_data"
    }
   ],
   "source": [
    "# Assuming X_train_normalized[0] is the instance you want to explain\n",
    "image_to_explain = X_train_normalized[0]\n",
    "\n",
    "# Get the explanation\n",
    "explanation = explainer.explain_instance(image_to_explain, predict_fn, top_labels=2, hide_color=0, num_samples=1000)\n",
    "\n"
   ]
  },
  {
   "cell_type": "code",
   "execution_count": 115,
   "id": "017a62f9",
   "metadata": {},
   "outputs": [],
   "source": [
    "from skimage.segmentation import mark_boundaries\n",
    "\n",
    "# Get image and mask for the top class\n",
    "temp, mask = explanation.get_image_and_mask(explanation.top_labels[0], positive_only=True, num_features=5, hide_rest=True)"
   ]
  },
  {
   "cell_type": "code",
   "execution_count": null,
   "id": "adceb930",
   "metadata": {},
   "outputs": [],
   "source": [
    "\n"
   ]
  },
  {
   "cell_type": "code",
   "execution_count": null,
   "id": "7db77033",
   "metadata": {},
   "outputs": [],
   "source": []
  },
  {
   "cell_type": "code",
   "execution_count": null,
   "id": "7fcc9251",
   "metadata": {},
   "outputs": [],
   "source": []
  }
 ],
 "metadata": {
  "kernelspec": {
   "display_name": "Python 3 (ipykernel)",
   "language": "python",
   "name": "python3"
  },
  "language_info": {
   "codemirror_mode": {
    "name": "ipython",
    "version": 3
   },
   "file_extension": ".py",
   "mimetype": "text/x-python",
   "name": "python",
   "nbconvert_exporter": "python",
   "pygments_lexer": "ipython3",
   "version": "3.9.16"
  }
 },
 "nbformat": 4,
 "nbformat_minor": 5
}
